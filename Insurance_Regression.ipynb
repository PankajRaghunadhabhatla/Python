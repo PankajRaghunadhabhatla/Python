{
  "nbformat": 4,
  "nbformat_minor": 0,
  "metadata": {
    "colab": {
      "provenance": [],
      "authorship_tag": "ABX9TyP6xaIlm81nlAWO56m4eCA7",
      "include_colab_link": true
    },
    "kernelspec": {
      "name": "python3",
      "display_name": "Python 3"
    },
    "language_info": {
      "name": "python"
    }
  },
  "cells": [
    {
      "cell_type": "markdown",
      "metadata": {
        "id": "view-in-github",
        "colab_type": "text"
      },
      "source": [
        "<a href=\"https://colab.research.google.com/github/PankajRaghunadhabhatla/Python/blob/main/Insurance_Regression.ipynb\" target=\"_parent\"><img src=\"https://colab.research.google.com/assets/colab-badge.svg\" alt=\"Open In Colab\"/></a>"
      ]
    },
    {
      "cell_type": "markdown",
      "source": [
        "## Linear Regression"
      ],
      "metadata": {
        "id": "qBSTq0iLsBkA"
      }
    },
    {
      "cell_type": "code",
      "execution_count": 1,
      "metadata": {
        "id": "26tXfr5cr9Az"
      },
      "outputs": [],
      "source": [
        "import pandas as pd\n",
        "import numpy as np\n",
        "import matplotlib.pyplot as plt\n",
        "import seaborn as sns"
      ]
    },
    {
      "cell_type": "code",
      "source": [
        "insurance = pd.read_csv('new_insurance_data.csv')\n",
        "insurance.head()"
      ],
      "metadata": {
        "colab": {
          "base_uri": "https://localhost:8080/",
          "height": 226
        },
        "id": "sKwGPkTLsDL0",
        "outputId": "36fe68d4-e08a-47ec-ccc8-31329fc20f49"
      },
      "execution_count": 2,
      "outputs": [
        {
          "output_type": "execute_result",
          "data": {
            "text/plain": [
              "    age   sex    bmi  children smoker  Claim_Amount  past_consultations  \\\n",
              "0  18.0  male  23.21       0.0     no   29087.54313                17.0   \n",
              "1  18.0  male  30.14       0.0     no   39053.67437                 7.0   \n",
              "2  18.0  male  33.33       0.0     no   39023.62759                19.0   \n",
              "3  18.0  male  33.66       0.0     no   28185.39332                11.0   \n",
              "4  18.0  male  34.10       0.0     no   14697.85941                16.0   \n",
              "\n",
              "   num_of_steps  Hospital_expenditure  NUmber_of_past_hospitalizations  \\\n",
              "0      715428.0           4720920.992                              0.0   \n",
              "1      699157.0           4329831.676                              0.0   \n",
              "2      702341.0           6884860.774                              0.0   \n",
              "3      700250.0           4274773.550                              0.0   \n",
              "4      711584.0           3787293.921                              0.0   \n",
              "\n",
              "   Anual_Salary     region    charges  \n",
              "0   55784970.05  southeast  1121.8739  \n",
              "1   13700885.19  southeast  1131.5066  \n",
              "2   73523107.27  southeast  1135.9407  \n",
              "3   75819679.60  southeast  1136.3994  \n",
              "4   23012320.01  southeast  1137.0110  "
            ],
            "text/html": [
              "\n",
              "  <div id=\"df-3acf547e-26a1-444e-a713-9b9e84a801c7\" class=\"colab-df-container\">\n",
              "    <div>\n",
              "<style scoped>\n",
              "    .dataframe tbody tr th:only-of-type {\n",
              "        vertical-align: middle;\n",
              "    }\n",
              "\n",
              "    .dataframe tbody tr th {\n",
              "        vertical-align: top;\n",
              "    }\n",
              "\n",
              "    .dataframe thead th {\n",
              "        text-align: right;\n",
              "    }\n",
              "</style>\n",
              "<table border=\"1\" class=\"dataframe\">\n",
              "  <thead>\n",
              "    <tr style=\"text-align: right;\">\n",
              "      <th></th>\n",
              "      <th>age</th>\n",
              "      <th>sex</th>\n",
              "      <th>bmi</th>\n",
              "      <th>children</th>\n",
              "      <th>smoker</th>\n",
              "      <th>Claim_Amount</th>\n",
              "      <th>past_consultations</th>\n",
              "      <th>num_of_steps</th>\n",
              "      <th>Hospital_expenditure</th>\n",
              "      <th>NUmber_of_past_hospitalizations</th>\n",
              "      <th>Anual_Salary</th>\n",
              "      <th>region</th>\n",
              "      <th>charges</th>\n",
              "    </tr>\n",
              "  </thead>\n",
              "  <tbody>\n",
              "    <tr>\n",
              "      <th>0</th>\n",
              "      <td>18.0</td>\n",
              "      <td>male</td>\n",
              "      <td>23.21</td>\n",
              "      <td>0.0</td>\n",
              "      <td>no</td>\n",
              "      <td>29087.54313</td>\n",
              "      <td>17.0</td>\n",
              "      <td>715428.0</td>\n",
              "      <td>4720920.992</td>\n",
              "      <td>0.0</td>\n",
              "      <td>55784970.05</td>\n",
              "      <td>southeast</td>\n",
              "      <td>1121.8739</td>\n",
              "    </tr>\n",
              "    <tr>\n",
              "      <th>1</th>\n",
              "      <td>18.0</td>\n",
              "      <td>male</td>\n",
              "      <td>30.14</td>\n",
              "      <td>0.0</td>\n",
              "      <td>no</td>\n",
              "      <td>39053.67437</td>\n",
              "      <td>7.0</td>\n",
              "      <td>699157.0</td>\n",
              "      <td>4329831.676</td>\n",
              "      <td>0.0</td>\n",
              "      <td>13700885.19</td>\n",
              "      <td>southeast</td>\n",
              "      <td>1131.5066</td>\n",
              "    </tr>\n",
              "    <tr>\n",
              "      <th>2</th>\n",
              "      <td>18.0</td>\n",
              "      <td>male</td>\n",
              "      <td>33.33</td>\n",
              "      <td>0.0</td>\n",
              "      <td>no</td>\n",
              "      <td>39023.62759</td>\n",
              "      <td>19.0</td>\n",
              "      <td>702341.0</td>\n",
              "      <td>6884860.774</td>\n",
              "      <td>0.0</td>\n",
              "      <td>73523107.27</td>\n",
              "      <td>southeast</td>\n",
              "      <td>1135.9407</td>\n",
              "    </tr>\n",
              "    <tr>\n",
              "      <th>3</th>\n",
              "      <td>18.0</td>\n",
              "      <td>male</td>\n",
              "      <td>33.66</td>\n",
              "      <td>0.0</td>\n",
              "      <td>no</td>\n",
              "      <td>28185.39332</td>\n",
              "      <td>11.0</td>\n",
              "      <td>700250.0</td>\n",
              "      <td>4274773.550</td>\n",
              "      <td>0.0</td>\n",
              "      <td>75819679.60</td>\n",
              "      <td>southeast</td>\n",
              "      <td>1136.3994</td>\n",
              "    </tr>\n",
              "    <tr>\n",
              "      <th>4</th>\n",
              "      <td>18.0</td>\n",
              "      <td>male</td>\n",
              "      <td>34.10</td>\n",
              "      <td>0.0</td>\n",
              "      <td>no</td>\n",
              "      <td>14697.85941</td>\n",
              "      <td>16.0</td>\n",
              "      <td>711584.0</td>\n",
              "      <td>3787293.921</td>\n",
              "      <td>0.0</td>\n",
              "      <td>23012320.01</td>\n",
              "      <td>southeast</td>\n",
              "      <td>1137.0110</td>\n",
              "    </tr>\n",
              "  </tbody>\n",
              "</table>\n",
              "</div>\n",
              "    <div class=\"colab-df-buttons\">\n",
              "\n",
              "  <div class=\"colab-df-container\">\n",
              "    <button class=\"colab-df-convert\" onclick=\"convertToInteractive('df-3acf547e-26a1-444e-a713-9b9e84a801c7')\"\n",
              "            title=\"Convert this dataframe to an interactive table.\"\n",
              "            style=\"display:none;\">\n",
              "\n",
              "  <svg xmlns=\"http://www.w3.org/2000/svg\" height=\"24px\" viewBox=\"0 -960 960 960\">\n",
              "    <path d=\"M120-120v-720h720v720H120Zm60-500h600v-160H180v160Zm220 220h160v-160H400v160Zm0 220h160v-160H400v160ZM180-400h160v-160H180v160Zm440 0h160v-160H620v160ZM180-180h160v-160H180v160Zm440 0h160v-160H620v160Z\"/>\n",
              "  </svg>\n",
              "    </button>\n",
              "\n",
              "  <style>\n",
              "    .colab-df-container {\n",
              "      display:flex;\n",
              "      gap: 12px;\n",
              "    }\n",
              "\n",
              "    .colab-df-convert {\n",
              "      background-color: #E8F0FE;\n",
              "      border: none;\n",
              "      border-radius: 50%;\n",
              "      cursor: pointer;\n",
              "      display: none;\n",
              "      fill: #1967D2;\n",
              "      height: 32px;\n",
              "      padding: 0 0 0 0;\n",
              "      width: 32px;\n",
              "    }\n",
              "\n",
              "    .colab-df-convert:hover {\n",
              "      background-color: #E2EBFA;\n",
              "      box-shadow: 0px 1px 2px rgba(60, 64, 67, 0.3), 0px 1px 3px 1px rgba(60, 64, 67, 0.15);\n",
              "      fill: #174EA6;\n",
              "    }\n",
              "\n",
              "    .colab-df-buttons div {\n",
              "      margin-bottom: 4px;\n",
              "    }\n",
              "\n",
              "    [theme=dark] .colab-df-convert {\n",
              "      background-color: #3B4455;\n",
              "      fill: #D2E3FC;\n",
              "    }\n",
              "\n",
              "    [theme=dark] .colab-df-convert:hover {\n",
              "      background-color: #434B5C;\n",
              "      box-shadow: 0px 1px 3px 1px rgba(0, 0, 0, 0.15);\n",
              "      filter: drop-shadow(0px 1px 2px rgba(0, 0, 0, 0.3));\n",
              "      fill: #FFFFFF;\n",
              "    }\n",
              "  </style>\n",
              "\n",
              "    <script>\n",
              "      const buttonEl =\n",
              "        document.querySelector('#df-3acf547e-26a1-444e-a713-9b9e84a801c7 button.colab-df-convert');\n",
              "      buttonEl.style.display =\n",
              "        google.colab.kernel.accessAllowed ? 'block' : 'none';\n",
              "\n",
              "      async function convertToInteractive(key) {\n",
              "        const element = document.querySelector('#df-3acf547e-26a1-444e-a713-9b9e84a801c7');\n",
              "        const dataTable =\n",
              "          await google.colab.kernel.invokeFunction('convertToInteractive',\n",
              "                                                    [key], {});\n",
              "        if (!dataTable) return;\n",
              "\n",
              "        const docLinkHtml = 'Like what you see? Visit the ' +\n",
              "          '<a target=\"_blank\" href=https://colab.research.google.com/notebooks/data_table.ipynb>data table notebook</a>'\n",
              "          + ' to learn more about interactive tables.';\n",
              "        element.innerHTML = '';\n",
              "        dataTable['output_type'] = 'display_data';\n",
              "        await google.colab.output.renderOutput(dataTable, element);\n",
              "        const docLink = document.createElement('div');\n",
              "        docLink.innerHTML = docLinkHtml;\n",
              "        element.appendChild(docLink);\n",
              "      }\n",
              "    </script>\n",
              "  </div>\n",
              "\n",
              "\n",
              "<div id=\"df-0adc87cc-e91c-4b9c-a63a-7a36b3c77ec3\">\n",
              "  <button class=\"colab-df-quickchart\" onclick=\"quickchart('df-0adc87cc-e91c-4b9c-a63a-7a36b3c77ec3')\"\n",
              "            title=\"Suggest charts\"\n",
              "            style=\"display:none;\">\n",
              "\n",
              "<svg xmlns=\"http://www.w3.org/2000/svg\" height=\"24px\"viewBox=\"0 0 24 24\"\n",
              "     width=\"24px\">\n",
              "    <g>\n",
              "        <path d=\"M19 3H5c-1.1 0-2 .9-2 2v14c0 1.1.9 2 2 2h14c1.1 0 2-.9 2-2V5c0-1.1-.9-2-2-2zM9 17H7v-7h2v7zm4 0h-2V7h2v10zm4 0h-2v-4h2v4z\"/>\n",
              "    </g>\n",
              "</svg>\n",
              "  </button>\n",
              "\n",
              "<style>\n",
              "  .colab-df-quickchart {\n",
              "      --bg-color: #E8F0FE;\n",
              "      --fill-color: #1967D2;\n",
              "      --hover-bg-color: #E2EBFA;\n",
              "      --hover-fill-color: #174EA6;\n",
              "      --disabled-fill-color: #AAA;\n",
              "      --disabled-bg-color: #DDD;\n",
              "  }\n",
              "\n",
              "  [theme=dark] .colab-df-quickchart {\n",
              "      --bg-color: #3B4455;\n",
              "      --fill-color: #D2E3FC;\n",
              "      --hover-bg-color: #434B5C;\n",
              "      --hover-fill-color: #FFFFFF;\n",
              "      --disabled-bg-color: #3B4455;\n",
              "      --disabled-fill-color: #666;\n",
              "  }\n",
              "\n",
              "  .colab-df-quickchart {\n",
              "    background-color: var(--bg-color);\n",
              "    border: none;\n",
              "    border-radius: 50%;\n",
              "    cursor: pointer;\n",
              "    display: none;\n",
              "    fill: var(--fill-color);\n",
              "    height: 32px;\n",
              "    padding: 0;\n",
              "    width: 32px;\n",
              "  }\n",
              "\n",
              "  .colab-df-quickchart:hover {\n",
              "    background-color: var(--hover-bg-color);\n",
              "    box-shadow: 0 1px 2px rgba(60, 64, 67, 0.3), 0 1px 3px 1px rgba(60, 64, 67, 0.15);\n",
              "    fill: var(--button-hover-fill-color);\n",
              "  }\n",
              "\n",
              "  .colab-df-quickchart-complete:disabled,\n",
              "  .colab-df-quickchart-complete:disabled:hover {\n",
              "    background-color: var(--disabled-bg-color);\n",
              "    fill: var(--disabled-fill-color);\n",
              "    box-shadow: none;\n",
              "  }\n",
              "\n",
              "  .colab-df-spinner {\n",
              "    border: 2px solid var(--fill-color);\n",
              "    border-color: transparent;\n",
              "    border-bottom-color: var(--fill-color);\n",
              "    animation:\n",
              "      spin 1s steps(1) infinite;\n",
              "  }\n",
              "\n",
              "  @keyframes spin {\n",
              "    0% {\n",
              "      border-color: transparent;\n",
              "      border-bottom-color: var(--fill-color);\n",
              "      border-left-color: var(--fill-color);\n",
              "    }\n",
              "    20% {\n",
              "      border-color: transparent;\n",
              "      border-left-color: var(--fill-color);\n",
              "      border-top-color: var(--fill-color);\n",
              "    }\n",
              "    30% {\n",
              "      border-color: transparent;\n",
              "      border-left-color: var(--fill-color);\n",
              "      border-top-color: var(--fill-color);\n",
              "      border-right-color: var(--fill-color);\n",
              "    }\n",
              "    40% {\n",
              "      border-color: transparent;\n",
              "      border-right-color: var(--fill-color);\n",
              "      border-top-color: var(--fill-color);\n",
              "    }\n",
              "    60% {\n",
              "      border-color: transparent;\n",
              "      border-right-color: var(--fill-color);\n",
              "    }\n",
              "    80% {\n",
              "      border-color: transparent;\n",
              "      border-right-color: var(--fill-color);\n",
              "      border-bottom-color: var(--fill-color);\n",
              "    }\n",
              "    90% {\n",
              "      border-color: transparent;\n",
              "      border-bottom-color: var(--fill-color);\n",
              "    }\n",
              "  }\n",
              "</style>\n",
              "\n",
              "  <script>\n",
              "    async function quickchart(key) {\n",
              "      const quickchartButtonEl =\n",
              "        document.querySelector('#' + key + ' button');\n",
              "      quickchartButtonEl.disabled = true;  // To prevent multiple clicks.\n",
              "      quickchartButtonEl.classList.add('colab-df-spinner');\n",
              "      try {\n",
              "        const charts = await google.colab.kernel.invokeFunction(\n",
              "            'suggestCharts', [key], {});\n",
              "      } catch (error) {\n",
              "        console.error('Error during call to suggestCharts:', error);\n",
              "      }\n",
              "      quickchartButtonEl.classList.remove('colab-df-spinner');\n",
              "      quickchartButtonEl.classList.add('colab-df-quickchart-complete');\n",
              "    }\n",
              "    (() => {\n",
              "      let quickchartButtonEl =\n",
              "        document.querySelector('#df-0adc87cc-e91c-4b9c-a63a-7a36b3c77ec3 button');\n",
              "      quickchartButtonEl.style.display =\n",
              "        google.colab.kernel.accessAllowed ? 'block' : 'none';\n",
              "    })();\n",
              "  </script>\n",
              "</div>\n",
              "    </div>\n",
              "  </div>\n"
            ]
          },
          "metadata": {},
          "execution_count": 2
        }
      ]
    },
    {
      "cell_type": "code",
      "source": [
        "# IF bmi is between 18.5- 24.9 > healthy range"
      ],
      "metadata": {
        "id": "Op4m99N4tI8i"
      },
      "execution_count": 3,
      "outputs": []
    },
    {
      "cell_type": "code",
      "source": [
        "#IF target column is containing Continuous data - Regression, Decision tree regressor, Random forest Regression\n",
        "# If categorical regression, Decision Tree Classifier, Random Forest Classifier, SVM Classifier"
      ],
      "metadata": {
        "id": "gBgBZv5itUM1"
      },
      "execution_count": 4,
      "outputs": []
    },
    {
      "cell_type": "code",
      "source": [
        "#import library\n",
        "#import dataset\n",
        "# EDA - Exploratory dataset Analysis ---> To Understand Data\n",
        "# Data Cleaning\n",
        "# Data Preprocessing\n",
        "# Build Model"
      ],
      "metadata": {
        "id": "ghGVKu4gwZoY"
      },
      "execution_count": 5,
      "outputs": []
    },
    {
      "cell_type": "code",
      "source": [
        "insurance.shape"
      ],
      "metadata": {
        "colab": {
          "base_uri": "https://localhost:8080/"
        },
        "id": "A-GpBaYawq0i",
        "outputId": "3d3c1a6e-697a-49da-9d7b-ee9d817694a4"
      },
      "execution_count": 6,
      "outputs": [
        {
          "output_type": "execute_result",
          "data": {
            "text/plain": [
              "(1338, 13)"
            ]
          },
          "metadata": {},
          "execution_count": 6
        }
      ]
    },
    {
      "cell_type": "code",
      "source": [
        "insurance.info()"
      ],
      "metadata": {
        "colab": {
          "base_uri": "https://localhost:8080/"
        },
        "id": "t_QVPEU8xcX5",
        "outputId": "4b254284-7189-47da-a5c3-5b3f13d1e7ba"
      },
      "execution_count": 7,
      "outputs": [
        {
          "output_type": "stream",
          "name": "stdout",
          "text": [
            "<class 'pandas.core.frame.DataFrame'>\n",
            "RangeIndex: 1338 entries, 0 to 1337\n",
            "Data columns (total 13 columns):\n",
            " #   Column                           Non-Null Count  Dtype  \n",
            "---  ------                           --------------  -----  \n",
            " 0   age                              1329 non-null   float64\n",
            " 1   sex                              1338 non-null   object \n",
            " 2   bmi                              1335 non-null   float64\n",
            " 3   children                         1333 non-null   float64\n",
            " 4   smoker                           1338 non-null   object \n",
            " 5   Claim_Amount                     1324 non-null   float64\n",
            " 6   past_consultations               1332 non-null   float64\n",
            " 7   num_of_steps                     1335 non-null   float64\n",
            " 8   Hospital_expenditure             1334 non-null   float64\n",
            " 9   NUmber_of_past_hospitalizations  1336 non-null   float64\n",
            " 10  Anual_Salary                     1332 non-null   float64\n",
            " 11  region                           1338 non-null   object \n",
            " 12  charges                          1338 non-null   float64\n",
            "dtypes: float64(10), object(3)\n",
            "memory usage: 136.0+ KB\n"
          ]
        }
      ]
    },
    {
      "cell_type": "code",
      "source": [
        "insurance.isnull().sum()"
      ],
      "metadata": {
        "colab": {
          "base_uri": "https://localhost:8080/"
        },
        "id": "nWpRJXTayFRD",
        "outputId": "38b59e7a-e00e-433b-9e45-de6af944da7f"
      },
      "execution_count": 8,
      "outputs": [
        {
          "output_type": "execute_result",
          "data": {
            "text/plain": [
              "age                                 9\n",
              "sex                                 0\n",
              "bmi                                 3\n",
              "children                            5\n",
              "smoker                              0\n",
              "Claim_Amount                       14\n",
              "past_consultations                  6\n",
              "num_of_steps                        3\n",
              "Hospital_expenditure                4\n",
              "NUmber_of_past_hospitalizations     2\n",
              "Anual_Salary                        6\n",
              "region                              0\n",
              "charges                             0\n",
              "dtype: int64"
            ]
          },
          "metadata": {},
          "execution_count": 8
        }
      ]
    },
    {
      "cell_type": "code",
      "source": [
        "insurance.columns # Extract column names"
      ],
      "metadata": {
        "colab": {
          "base_uri": "https://localhost:8080/"
        },
        "id": "RaJgr-xtyjp7",
        "outputId": "1c442c9d-9951-4a8a-eb37-69cc133acd9e"
      },
      "execution_count": 9,
      "outputs": [
        {
          "output_type": "execute_result",
          "data": {
            "text/plain": [
              "Index(['age', 'sex', 'bmi', 'children', 'smoker', 'Claim_Amount',\n",
              "       'past_consultations', 'num_of_steps', 'Hospital_expenditure',\n",
              "       'NUmber_of_past_hospitalizations', 'Anual_Salary', 'region', 'charges'],\n",
              "      dtype='object')"
            ]
          },
          "metadata": {},
          "execution_count": 9
        }
      ]
    },
    {
      "cell_type": "code",
      "source": [
        "col = list(insurance.columns)"
      ],
      "metadata": {
        "id": "aiGQSW-6yn9g"
      },
      "execution_count": 10,
      "outputs": []
    },
    {
      "cell_type": "code",
      "source": [
        "type(col)"
      ],
      "metadata": {
        "colab": {
          "base_uri": "https://localhost:8080/"
        },
        "id": "eTsAoNM4y1M9",
        "outputId": "c69158a5-5f1d-4a87-b7c6-5afb5cd028f8"
      },
      "execution_count": 11,
      "outputs": [
        {
          "output_type": "execute_result",
          "data": {
            "text/plain": [
              "list"
            ]
          },
          "metadata": {},
          "execution_count": 11
        }
      ]
    },
    {
      "cell_type": "code",
      "source": [
        "display(insurance.describe().T)"
      ],
      "metadata": {
        "colab": {
          "base_uri": "https://localhost:8080/",
          "height": 383
        },
        "id": "dZ2xvC9iy725",
        "outputId": "23a65db7-c951-4ddb-d0ea-2ea535cee9e1"
      },
      "execution_count": 12,
      "outputs": [
        {
          "output_type": "display_data",
          "data": {
            "text/plain": [
              "                                  count          mean           std  \\\n",
              "age                              1329.0  3.931001e+01  1.403482e+01   \n",
              "bmi                              1335.0  3.066511e+01  6.101690e+00   \n",
              "children                         1333.0  1.090773e+00  1.201856e+00   \n",
              "Claim_Amount                     1324.0  3.336133e+04  1.561729e+04   \n",
              "past_consultations               1332.0  1.521622e+01  7.467723e+00   \n",
              "num_of_steps                     1335.0  9.100047e+05  9.188612e+04   \n",
              "Hospital_expenditure             1334.0  1.584179e+07  2.669305e+07   \n",
              "NUmber_of_past_hospitalizations  1336.0  1.060629e+00  5.335831e-01   \n",
              "Anual_Salary                     1332.0  3.696849e+08  5.668843e+08   \n",
              "charges                          1338.0  1.327042e+04  1.211001e+04   \n",
              "\n",
              "                                          min           25%           50%  \\\n",
              "age                              1.800000e+01  2.700000e+01  3.900000e+01   \n",
              "bmi                              1.596000e+01  2.630250e+01  3.040000e+01   \n",
              "children                         0.000000e+00  0.000000e+00  1.000000e+00   \n",
              "Claim_Amount                     1.920136e+03  2.076886e+04  3.370031e+04   \n",
              "past_consultations               1.000000e+00  9.000000e+00  1.500000e+01   \n",
              "num_of_steps                     6.954300e+05  8.471995e+05  9.143000e+05   \n",
              "Hospital_expenditure             2.945253e+04  4.077633e+06  7.490337e+06   \n",
              "NUmber_of_past_hospitalizations  0.000000e+00  1.000000e+00  1.000000e+00   \n",
              "Anual_Salary                     2.747072e+06  7.701932e+07  1.419361e+08   \n",
              "charges                          1.121874e+03  4.740287e+03  9.382033e+03   \n",
              "\n",
              "                                          75%           max  \n",
              "age                              5.100000e+01  6.400000e+01  \n",
              "bmi                              3.468750e+01  5.313000e+01  \n",
              "children                         2.000000e+00  5.000000e+00  \n",
              "Claim_Amount                     4.505233e+04  7.727799e+04  \n",
              "past_consultations               2.000000e+01  4.000000e+01  \n",
              "num_of_steps                     9.716840e+05  1.107872e+06  \n",
              "Hospital_expenditure             1.084082e+07  2.616317e+08  \n",
              "NUmber_of_past_hospitalizations  1.000000e+00  3.000000e+00  \n",
              "Anual_Salary                     3.243499e+08  4.117197e+09  \n",
              "charges                          1.663991e+04  6.377043e+04  "
            ],
            "text/html": [
              "\n",
              "  <div id=\"df-e05478bd-9b65-4931-995c-45867326cd1e\" class=\"colab-df-container\">\n",
              "    <div>\n",
              "<style scoped>\n",
              "    .dataframe tbody tr th:only-of-type {\n",
              "        vertical-align: middle;\n",
              "    }\n",
              "\n",
              "    .dataframe tbody tr th {\n",
              "        vertical-align: top;\n",
              "    }\n",
              "\n",
              "    .dataframe thead th {\n",
              "        text-align: right;\n",
              "    }\n",
              "</style>\n",
              "<table border=\"1\" class=\"dataframe\">\n",
              "  <thead>\n",
              "    <tr style=\"text-align: right;\">\n",
              "      <th></th>\n",
              "      <th>count</th>\n",
              "      <th>mean</th>\n",
              "      <th>std</th>\n",
              "      <th>min</th>\n",
              "      <th>25%</th>\n",
              "      <th>50%</th>\n",
              "      <th>75%</th>\n",
              "      <th>max</th>\n",
              "    </tr>\n",
              "  </thead>\n",
              "  <tbody>\n",
              "    <tr>\n",
              "      <th>age</th>\n",
              "      <td>1329.0</td>\n",
              "      <td>3.931001e+01</td>\n",
              "      <td>1.403482e+01</td>\n",
              "      <td>1.800000e+01</td>\n",
              "      <td>2.700000e+01</td>\n",
              "      <td>3.900000e+01</td>\n",
              "      <td>5.100000e+01</td>\n",
              "      <td>6.400000e+01</td>\n",
              "    </tr>\n",
              "    <tr>\n",
              "      <th>bmi</th>\n",
              "      <td>1335.0</td>\n",
              "      <td>3.066511e+01</td>\n",
              "      <td>6.101690e+00</td>\n",
              "      <td>1.596000e+01</td>\n",
              "      <td>2.630250e+01</td>\n",
              "      <td>3.040000e+01</td>\n",
              "      <td>3.468750e+01</td>\n",
              "      <td>5.313000e+01</td>\n",
              "    </tr>\n",
              "    <tr>\n",
              "      <th>children</th>\n",
              "      <td>1333.0</td>\n",
              "      <td>1.090773e+00</td>\n",
              "      <td>1.201856e+00</td>\n",
              "      <td>0.000000e+00</td>\n",
              "      <td>0.000000e+00</td>\n",
              "      <td>1.000000e+00</td>\n",
              "      <td>2.000000e+00</td>\n",
              "      <td>5.000000e+00</td>\n",
              "    </tr>\n",
              "    <tr>\n",
              "      <th>Claim_Amount</th>\n",
              "      <td>1324.0</td>\n",
              "      <td>3.336133e+04</td>\n",
              "      <td>1.561729e+04</td>\n",
              "      <td>1.920136e+03</td>\n",
              "      <td>2.076886e+04</td>\n",
              "      <td>3.370031e+04</td>\n",
              "      <td>4.505233e+04</td>\n",
              "      <td>7.727799e+04</td>\n",
              "    </tr>\n",
              "    <tr>\n",
              "      <th>past_consultations</th>\n",
              "      <td>1332.0</td>\n",
              "      <td>1.521622e+01</td>\n",
              "      <td>7.467723e+00</td>\n",
              "      <td>1.000000e+00</td>\n",
              "      <td>9.000000e+00</td>\n",
              "      <td>1.500000e+01</td>\n",
              "      <td>2.000000e+01</td>\n",
              "      <td>4.000000e+01</td>\n",
              "    </tr>\n",
              "    <tr>\n",
              "      <th>num_of_steps</th>\n",
              "      <td>1335.0</td>\n",
              "      <td>9.100047e+05</td>\n",
              "      <td>9.188612e+04</td>\n",
              "      <td>6.954300e+05</td>\n",
              "      <td>8.471995e+05</td>\n",
              "      <td>9.143000e+05</td>\n",
              "      <td>9.716840e+05</td>\n",
              "      <td>1.107872e+06</td>\n",
              "    </tr>\n",
              "    <tr>\n",
              "      <th>Hospital_expenditure</th>\n",
              "      <td>1334.0</td>\n",
              "      <td>1.584179e+07</td>\n",
              "      <td>2.669305e+07</td>\n",
              "      <td>2.945253e+04</td>\n",
              "      <td>4.077633e+06</td>\n",
              "      <td>7.490337e+06</td>\n",
              "      <td>1.084082e+07</td>\n",
              "      <td>2.616317e+08</td>\n",
              "    </tr>\n",
              "    <tr>\n",
              "      <th>NUmber_of_past_hospitalizations</th>\n",
              "      <td>1336.0</td>\n",
              "      <td>1.060629e+00</td>\n",
              "      <td>5.335831e-01</td>\n",
              "      <td>0.000000e+00</td>\n",
              "      <td>1.000000e+00</td>\n",
              "      <td>1.000000e+00</td>\n",
              "      <td>1.000000e+00</td>\n",
              "      <td>3.000000e+00</td>\n",
              "    </tr>\n",
              "    <tr>\n",
              "      <th>Anual_Salary</th>\n",
              "      <td>1332.0</td>\n",
              "      <td>3.696849e+08</td>\n",
              "      <td>5.668843e+08</td>\n",
              "      <td>2.747072e+06</td>\n",
              "      <td>7.701932e+07</td>\n",
              "      <td>1.419361e+08</td>\n",
              "      <td>3.243499e+08</td>\n",
              "      <td>4.117197e+09</td>\n",
              "    </tr>\n",
              "    <tr>\n",
              "      <th>charges</th>\n",
              "      <td>1338.0</td>\n",
              "      <td>1.327042e+04</td>\n",
              "      <td>1.211001e+04</td>\n",
              "      <td>1.121874e+03</td>\n",
              "      <td>4.740287e+03</td>\n",
              "      <td>9.382033e+03</td>\n",
              "      <td>1.663991e+04</td>\n",
              "      <td>6.377043e+04</td>\n",
              "    </tr>\n",
              "  </tbody>\n",
              "</table>\n",
              "</div>\n",
              "    <div class=\"colab-df-buttons\">\n",
              "\n",
              "  <div class=\"colab-df-container\">\n",
              "    <button class=\"colab-df-convert\" onclick=\"convertToInteractive('df-e05478bd-9b65-4931-995c-45867326cd1e')\"\n",
              "            title=\"Convert this dataframe to an interactive table.\"\n",
              "            style=\"display:none;\">\n",
              "\n",
              "  <svg xmlns=\"http://www.w3.org/2000/svg\" height=\"24px\" viewBox=\"0 -960 960 960\">\n",
              "    <path d=\"M120-120v-720h720v720H120Zm60-500h600v-160H180v160Zm220 220h160v-160H400v160Zm0 220h160v-160H400v160ZM180-400h160v-160H180v160Zm440 0h160v-160H620v160ZM180-180h160v-160H180v160Zm440 0h160v-160H620v160Z\"/>\n",
              "  </svg>\n",
              "    </button>\n",
              "\n",
              "  <style>\n",
              "    .colab-df-container {\n",
              "      display:flex;\n",
              "      gap: 12px;\n",
              "    }\n",
              "\n",
              "    .colab-df-convert {\n",
              "      background-color: #E8F0FE;\n",
              "      border: none;\n",
              "      border-radius: 50%;\n",
              "      cursor: pointer;\n",
              "      display: none;\n",
              "      fill: #1967D2;\n",
              "      height: 32px;\n",
              "      padding: 0 0 0 0;\n",
              "      width: 32px;\n",
              "    }\n",
              "\n",
              "    .colab-df-convert:hover {\n",
              "      background-color: #E2EBFA;\n",
              "      box-shadow: 0px 1px 2px rgba(60, 64, 67, 0.3), 0px 1px 3px 1px rgba(60, 64, 67, 0.15);\n",
              "      fill: #174EA6;\n",
              "    }\n",
              "\n",
              "    .colab-df-buttons div {\n",
              "      margin-bottom: 4px;\n",
              "    }\n",
              "\n",
              "    [theme=dark] .colab-df-convert {\n",
              "      background-color: #3B4455;\n",
              "      fill: #D2E3FC;\n",
              "    }\n",
              "\n",
              "    [theme=dark] .colab-df-convert:hover {\n",
              "      background-color: #434B5C;\n",
              "      box-shadow: 0px 1px 3px 1px rgba(0, 0, 0, 0.15);\n",
              "      filter: drop-shadow(0px 1px 2px rgba(0, 0, 0, 0.3));\n",
              "      fill: #FFFFFF;\n",
              "    }\n",
              "  </style>\n",
              "\n",
              "    <script>\n",
              "      const buttonEl =\n",
              "        document.querySelector('#df-e05478bd-9b65-4931-995c-45867326cd1e button.colab-df-convert');\n",
              "      buttonEl.style.display =\n",
              "        google.colab.kernel.accessAllowed ? 'block' : 'none';\n",
              "\n",
              "      async function convertToInteractive(key) {\n",
              "        const element = document.querySelector('#df-e05478bd-9b65-4931-995c-45867326cd1e');\n",
              "        const dataTable =\n",
              "          await google.colab.kernel.invokeFunction('convertToInteractive',\n",
              "                                                    [key], {});\n",
              "        if (!dataTable) return;\n",
              "\n",
              "        const docLinkHtml = 'Like what you see? Visit the ' +\n",
              "          '<a target=\"_blank\" href=https://colab.research.google.com/notebooks/data_table.ipynb>data table notebook</a>'\n",
              "          + ' to learn more about interactive tables.';\n",
              "        element.innerHTML = '';\n",
              "        dataTable['output_type'] = 'display_data';\n",
              "        await google.colab.output.renderOutput(dataTable, element);\n",
              "        const docLink = document.createElement('div');\n",
              "        docLink.innerHTML = docLinkHtml;\n",
              "        element.appendChild(docLink);\n",
              "      }\n",
              "    </script>\n",
              "  </div>\n",
              "\n",
              "\n",
              "<div id=\"df-9f4bb33a-5509-42c4-9f3e-ba9ea2052353\">\n",
              "  <button class=\"colab-df-quickchart\" onclick=\"quickchart('df-9f4bb33a-5509-42c4-9f3e-ba9ea2052353')\"\n",
              "            title=\"Suggest charts\"\n",
              "            style=\"display:none;\">\n",
              "\n",
              "<svg xmlns=\"http://www.w3.org/2000/svg\" height=\"24px\"viewBox=\"0 0 24 24\"\n",
              "     width=\"24px\">\n",
              "    <g>\n",
              "        <path d=\"M19 3H5c-1.1 0-2 .9-2 2v14c0 1.1.9 2 2 2h14c1.1 0 2-.9 2-2V5c0-1.1-.9-2-2-2zM9 17H7v-7h2v7zm4 0h-2V7h2v10zm4 0h-2v-4h2v4z\"/>\n",
              "    </g>\n",
              "</svg>\n",
              "  </button>\n",
              "\n",
              "<style>\n",
              "  .colab-df-quickchart {\n",
              "      --bg-color: #E8F0FE;\n",
              "      --fill-color: #1967D2;\n",
              "      --hover-bg-color: #E2EBFA;\n",
              "      --hover-fill-color: #174EA6;\n",
              "      --disabled-fill-color: #AAA;\n",
              "      --disabled-bg-color: #DDD;\n",
              "  }\n",
              "\n",
              "  [theme=dark] .colab-df-quickchart {\n",
              "      --bg-color: #3B4455;\n",
              "      --fill-color: #D2E3FC;\n",
              "      --hover-bg-color: #434B5C;\n",
              "      --hover-fill-color: #FFFFFF;\n",
              "      --disabled-bg-color: #3B4455;\n",
              "      --disabled-fill-color: #666;\n",
              "  }\n",
              "\n",
              "  .colab-df-quickchart {\n",
              "    background-color: var(--bg-color);\n",
              "    border: none;\n",
              "    border-radius: 50%;\n",
              "    cursor: pointer;\n",
              "    display: none;\n",
              "    fill: var(--fill-color);\n",
              "    height: 32px;\n",
              "    padding: 0;\n",
              "    width: 32px;\n",
              "  }\n",
              "\n",
              "  .colab-df-quickchart:hover {\n",
              "    background-color: var(--hover-bg-color);\n",
              "    box-shadow: 0 1px 2px rgba(60, 64, 67, 0.3), 0 1px 3px 1px rgba(60, 64, 67, 0.15);\n",
              "    fill: var(--button-hover-fill-color);\n",
              "  }\n",
              "\n",
              "  .colab-df-quickchart-complete:disabled,\n",
              "  .colab-df-quickchart-complete:disabled:hover {\n",
              "    background-color: var(--disabled-bg-color);\n",
              "    fill: var(--disabled-fill-color);\n",
              "    box-shadow: none;\n",
              "  }\n",
              "\n",
              "  .colab-df-spinner {\n",
              "    border: 2px solid var(--fill-color);\n",
              "    border-color: transparent;\n",
              "    border-bottom-color: var(--fill-color);\n",
              "    animation:\n",
              "      spin 1s steps(1) infinite;\n",
              "  }\n",
              "\n",
              "  @keyframes spin {\n",
              "    0% {\n",
              "      border-color: transparent;\n",
              "      border-bottom-color: var(--fill-color);\n",
              "      border-left-color: var(--fill-color);\n",
              "    }\n",
              "    20% {\n",
              "      border-color: transparent;\n",
              "      border-left-color: var(--fill-color);\n",
              "      border-top-color: var(--fill-color);\n",
              "    }\n",
              "    30% {\n",
              "      border-color: transparent;\n",
              "      border-left-color: var(--fill-color);\n",
              "      border-top-color: var(--fill-color);\n",
              "      border-right-color: var(--fill-color);\n",
              "    }\n",
              "    40% {\n",
              "      border-color: transparent;\n",
              "      border-right-color: var(--fill-color);\n",
              "      border-top-color: var(--fill-color);\n",
              "    }\n",
              "    60% {\n",
              "      border-color: transparent;\n",
              "      border-right-color: var(--fill-color);\n",
              "    }\n",
              "    80% {\n",
              "      border-color: transparent;\n",
              "      border-right-color: var(--fill-color);\n",
              "      border-bottom-color: var(--fill-color);\n",
              "    }\n",
              "    90% {\n",
              "      border-color: transparent;\n",
              "      border-bottom-color: var(--fill-color);\n",
              "    }\n",
              "  }\n",
              "</style>\n",
              "\n",
              "  <script>\n",
              "    async function quickchart(key) {\n",
              "      const quickchartButtonEl =\n",
              "        document.querySelector('#' + key + ' button');\n",
              "      quickchartButtonEl.disabled = true;  // To prevent multiple clicks.\n",
              "      quickchartButtonEl.classList.add('colab-df-spinner');\n",
              "      try {\n",
              "        const charts = await google.colab.kernel.invokeFunction(\n",
              "            'suggestCharts', [key], {});\n",
              "      } catch (error) {\n",
              "        console.error('Error during call to suggestCharts:', error);\n",
              "      }\n",
              "      quickchartButtonEl.classList.remove('colab-df-spinner');\n",
              "      quickchartButtonEl.classList.add('colab-df-quickchart-complete');\n",
              "    }\n",
              "    (() => {\n",
              "      let quickchartButtonEl =\n",
              "        document.querySelector('#df-9f4bb33a-5509-42c4-9f3e-ba9ea2052353 button');\n",
              "      quickchartButtonEl.style.display =\n",
              "        google.colab.kernel.accessAllowed ? 'block' : 'none';\n",
              "    })();\n",
              "  </script>\n",
              "</div>\n",
              "    </div>\n",
              "  </div>\n"
            ]
          },
          "metadata": {}
        }
      ]
    },
    {
      "cell_type": "code",
      "source": [
        "col"
      ],
      "metadata": {
        "colab": {
          "base_uri": "https://localhost:8080/"
        },
        "id": "3QLMDHBpz4un",
        "outputId": "8270d53e-34e3-4788-a2e9-09adfc21cc10"
      },
      "execution_count": 13,
      "outputs": [
        {
          "output_type": "execute_result",
          "data": {
            "text/plain": [
              "['age',\n",
              " 'sex',\n",
              " 'bmi',\n",
              " 'children',\n",
              " 'smoker',\n",
              " 'Claim_Amount',\n",
              " 'past_consultations',\n",
              " 'num_of_steps',\n",
              " 'Hospital_expenditure',\n",
              " 'NUmber_of_past_hospitalizations',\n",
              " 'Anual_Salary',\n",
              " 'region',\n",
              " 'charges']"
            ]
          },
          "metadata": {},
          "execution_count": 13
        }
      ]
    },
    {
      "cell_type": "code",
      "source": [
        "#Replace null values with mean and median\n",
        "for i in col:\n",
        "  if insurance[i].dtypes=='object':\n",
        "    insurance[i]= insurance[i].fillna(insurance[i].mode()[0])\n",
        "  else:\n",
        "    insurance[i]= insurance[i].fillna(insurance[i].mean())"
      ],
      "metadata": {
        "id": "FrOtfns-z65d"
      },
      "execution_count": 14,
      "outputs": []
    },
    {
      "cell_type": "code",
      "source": [
        "insurance.isnull().sum() # All the Null values are treated"
      ],
      "metadata": {
        "colab": {
          "base_uri": "https://localhost:8080/"
        },
        "id": "PTMV_XQ61RZX",
        "outputId": "83c4705d-e015-4b08-babb-2a1cbc47552e"
      },
      "execution_count": 15,
      "outputs": [
        {
          "output_type": "execute_result",
          "data": {
            "text/plain": [
              "age                                0\n",
              "sex                                0\n",
              "bmi                                0\n",
              "children                           0\n",
              "smoker                             0\n",
              "Claim_Amount                       0\n",
              "past_consultations                 0\n",
              "num_of_steps                       0\n",
              "Hospital_expenditure               0\n",
              "NUmber_of_past_hospitalizations    0\n",
              "Anual_Salary                       0\n",
              "region                             0\n",
              "charges                            0\n",
              "dtype: int64"
            ]
          },
          "metadata": {},
          "execution_count": 15
        }
      ]
    },
    {
      "cell_type": "code",
      "source": [
        "insurance['smoker'].mode()"
      ],
      "metadata": {
        "colab": {
          "base_uri": "https://localhost:8080/"
        },
        "id": "XQw9SnIJAOaG",
        "outputId": "7d448988-5593-4fb4-8e92-76b104626e53"
      },
      "execution_count": 16,
      "outputs": [
        {
          "output_type": "execute_result",
          "data": {
            "text/plain": [
              "0    no\n",
              "Name: smoker, dtype: object"
            ]
          },
          "metadata": {},
          "execution_count": 16
        }
      ]
    },
    {
      "cell_type": "code",
      "source": [
        "insurance['smoker'].mode()[0]"
      ],
      "metadata": {
        "colab": {
          "base_uri": "https://localhost:8080/",
          "height": 35
        },
        "id": "XKvSlWjAAuBu",
        "outputId": "a588e6fb-4323-4d14-bdb6-3af175688a58"
      },
      "execution_count": 17,
      "outputs": [
        {
          "output_type": "execute_result",
          "data": {
            "text/plain": [
              "'no'"
            ],
            "application/vnd.google.colaboratory.intrinsic+json": {
              "type": "string"
            }
          },
          "metadata": {},
          "execution_count": 17
        }
      ]
    },
    {
      "cell_type": "code",
      "source": [
        "#I want to check the distribution of data\n",
        "for col_name in col:\n",
        "  if (insurance[col_name].dtypes=='int64' or insurance[col_name].dtypes=='float64'):\n",
        "    plt.hist(insurance[col_name])\n",
        "    plt.xlabel(col_name)\n",
        "    plt.ylabel('count')\n",
        "    plt.show()"
      ],
      "metadata": {
        "colab": {
          "base_uri": "https://localhost:8080/",
          "height": 1000
        },
        "id": "L1JOAlqKCv9_",
        "outputId": "b176b882-b926-45de-e0a5-5c71283a5421"
      },
      "execution_count": 18,
      "outputs": [
        {
          "output_type": "display_data",
          "data": {
            "text/plain": [
              "<Figure size 640x480 with 1 Axes>"
            ],
            "image/png": "[encoded data removed]"
          },
          "metadata": {}
        },
        {
          "output_type": "display_data",
          "data": {
            "text/plain": [
              "<Figure size 640x480 with 1 Axes>"
            ],
            "image/png": "[encoded data removed]"
          },
          "metadata": {}
        },
        {
          "output_type": "display_data",
          "data": {
            "text/plain": [
              "<Figure size 640x480 with 1 Axes>"
            ],
            "image/png": "[encoded data removed]"
          },
          "metadata": {}
        },
        {
          "output_type": "display_data",
          "data": {
            "text/plain": [
              "<Figure size 640x480 with 1 Axes>"
            ],
            "image/png": "[encoded data removed]"
          },
          "metadata": {}
        },
        {
          "output_type": "display_data",
          "data": {
            "text/plain": [
              "<Figure size 640x480 with 1 Axes>"
            ],
            "image/png": "[encoded data removed]"
          },
          "metadata": {}
        },
        {
          "output_type": "display_data",
          "data": {
            "text/plain": [
              "<Figure size 640x480 with 1 Axes>"
            ],
            "image/png": "[encoded data removed]"
          },
          "metadata": {}
        },
        {
          "output_type": "display_data",
          "data": {
            "text/plain": [
              "<Figure size 640x480 with 1 Axes>"
            ],
            "image/png": "[encoded data removed]"
          },
          "metadata": {}
        },
        {
          "output_type": "display_data",
          "data": {
            "text/plain": [
              "<Figure size 640x480 with 1 Axes>"
            ],
            "image/png": "[encoded data removed]"
          },
          "metadata": {}
        },
        {
          "output_type": "display_data",
          "data": {
            "text/plain": [
              "<Figure size 640x480 with 1 Axes>"
            ],
            "image/png": "[encoded data removed]"
          },
          "metadata": {}
        },
        {
          "output_type": "display_data",
          "data": {
            "text/plain": [
              "<Figure size 640x480 with 1 Axes>"
            ],
            "image/png": "[encoded data removed]"
          },
          "metadata": {}
        }
      ]
    },
    {
      "cell_type": "code",
      "source": [
        "#I want to figure out if there are outliers present in the data\n",
        "for col_name in col:\n",
        "  if(insurance[col_name].dtypes=='int64' or insurance[col_name].dtypes=='float64'):\n",
        "    plt.boxplot(insurance[col_name])\n",
        "    plt.xlabel(col_name)\n",
        "    plt.ylabel('count')\n",
        "    plt.show()"
      ],
      "metadata": {
        "colab": {
          "base_uri": "https://localhost:8080/",
          "height": 1000
        },
        "id": "fuNqh_buE8o2",
        "outputId": "aa4da77b-7773-452d-82f9-04d63f160778"
      },
      "execution_count": 19,
      "outputs": [
        {
          "output_type": "display_data",
          "data": {
            "text/plain": [
              "<Figure size 640x480 with 1 Axes>"
            ],
            "image/png": "[encoded data removed]"
          },
          "metadata": {}
        },
        {
          "output_type": "display_data",
          "data": {
            "text/plain": [
              "<Figure size 640x480 with 1 Axes>"
            ],
            "image/png": "[encoded data removed]"
          },
          "metadata": {}
        },
        {
          "output_type": "display_data",
          "data": {
            "text/plain": [
              "<Figure size 640x480 with 1 Axes>"
            ],
            "image/png": "[encoded data removed]"
          },
          "metadata": {}
        },
        {
          "output_type": "display_data",
          "data": {
            "text/plain": [
              "<Figure size 640x480 with 1 Axes>"
            ],
            "image/png": "[encoded data removed]"
          },
          "metadata": {}
        },
        {
          "output_type": "display_data",
          "data": {
            "text/plain": [
              "<Figure size 640x480 with 1 Axes>"
            ],
            "image/png": "[encoded data removed]"
          },
          "metadata": {}
        },
        {
          "output_type": "display_data",
          "data": {
            "text/plain": [
              "<Figure size 640x480 with 1 Axes>"
            ],
            "image/png": "[encoded data removed]"
          },
          "metadata": {}
        },
        {
          "output_type": "display_data",
          "data": {
            "text/plain": [
              "<Figure size 640x480 with 1 Axes>"
            ],
            "image/png": "[encoded data removed]"
          },
          "metadata": {}
        },
        {
          "output_type": "display_data",
          "data": {
            "text/plain": [
              "<Figure size 640x480 with 1 Axes>"
            ],
            "image/png": "[encoded data removed]"
          },
          "metadata": {}
        },
        {
          "output_type": "display_data",
          "data": {
            "text/plain": [
              "<Figure size 640x480 with 1 Axes>"
            ],
            "image/png": "[encoded data removed]"
          },
          "metadata": {}
        },
        {
          "output_type": "display_data",
          "data": {
            "text/plain": [
              "<Figure size 640x480 with 1 Axes>"
            ],
            "image/png": "[encoded data removed]"
          },
          "metadata": {}
        }
      ]
    },
    {
      "cell_type": "code",
      "source": [
        "# Treat Outliers\n",
        "Q1 = insurance.bmi.quantile(0.25)\n",
        "Q3 = insurance.bmi.quantile(0.75)\n",
        "print(\"Q1\",Q1)\n",
        "print(\"Q3\",Q3)"
      ],
      "metadata": {
        "colab": {
          "base_uri": "https://localhost:8080/"
        },
        "id": "Hdi6nFpKGYpH",
        "outputId": "7d99a72f-23bb-426c-f56b-12127a789f97"
      },
      "execution_count": 20,
      "outputs": [
        {
          "output_type": "stream",
          "name": "stdout",
          "text": [
            "Q1 26.315\n",
            "Q3 34.65625\n"
          ]
        }
      ]
    },
    {
      "cell_type": "code",
      "source": [
        "IQR = Q3-Q1\n",
        "IQR"
      ],
      "metadata": {
        "colab": {
          "base_uri": "https://localhost:8080/"
        },
        "id": "Ya703WFXNkkE",
        "outputId": "7a42d533-474f-4cd4-e7d3-414d59cf1d50"
      },
      "execution_count": 21,
      "outputs": [
        {
          "output_type": "execute_result",
          "data": {
            "text/plain": [
              "8.341249999999999"
            ]
          },
          "metadata": {},
          "execution_count": 21
        }
      ]
    },
    {
      "cell_type": "code",
      "source": [
        "#LOWER LIMIT\n",
        "LL = Q1-1.5*IQR\n",
        "# UPPER LIMIT\n",
        "UL = Q3 + 1.5*IQR\n",
        "\n",
        "print(\"LL\", LL)\n",
        "print(\"UL\", UL)"
      ],
      "metadata": {
        "colab": {
          "base_uri": "https://localhost:8080/"
        },
        "id": "BeFD94XmNo1U",
        "outputId": "ad600594-f1c3-4215-81c1-b8a4395f1632"
      },
      "execution_count": 22,
      "outputs": [
        {
          "output_type": "stream",
          "name": "stdout",
          "text": [
            "LL 13.803125000000003\n",
            "UL 47.168124999999996\n"
          ]
        }
      ]
    },
    {
      "cell_type": "code",
      "source": [
        "insurance = insurance[(insurance.bmi >= Q1-1.5*IQR) & (insurance.bmi <= Q3 + 1.5*IQR)]\n",
        "\n",
        "Q1 = insurance.past_consultations.quantile(0.25)\n",
        "Q3 = insurance.past_consultations.quantile(0.75)\n",
        "IQR = Q3 - Q1\n",
        "insurance = insurance[(insurance.past_consultations >= Q1 -1.5*IQR) & (insurance.past_consultations <= Q1 +1.5*IQR)]\n",
        "\n",
        "Q1 = insurance.Hospital_expenditure.quantile(0.25)\n",
        "Q3 = insurance.Hospital_expenditure.quantile(0.75)\n",
        "IQR = Q3 - Q1\n",
        "insurance = insurance[(insurance.Hospital_expenditure >= Q1 -1.5*IQR) & (insurance.Hospital_expenditure <= Q1 +1.5*IQR)]\n",
        "\n",
        "Q1 = insurance.Anual_Salary.quantile(0.25)\n",
        "Q3 = insurance.Anual_Salary.quantile(0.75)\n",
        "IQR = Q3 - Q1\n",
        "insurance = insurance[(insurance.Anual_Salary >= Q1 -1.5*IQR) & (insurance.Anual_Salary <= Q1 +1.5*IQR)]\n"
      ],
      "metadata": {
        "id": "1KwnXNYPQf2J"
      },
      "execution_count": 23,
      "outputs": []
    },
    {
      "cell_type": "code",
      "source": [
        "# for col_name in col:\n",
        "#   if(insurance[col_name].dtypes == 'int64' or insurance[col_name].dtypes == 'float64'):\n",
        "#     Q1 = insurance[col_name].quantile(0.25)\n",
        "#     Q3 = insurance[col_name].quantile(0.75)\n",
        "#     IQR = Q3-Q1\n",
        "#     insurance[(insurance.col_name) >= Q1-1.5*IQR) & (insurance.col_name <= Q1 + 1.5*IQR)]"
      ],
      "metadata": {
        "id": "Za0yzD2zScVs"
      },
      "execution_count": 24,
      "outputs": []
    },
    {
      "cell_type": "code",
      "source": [
        "insurance.shape"
      ],
      "metadata": {
        "colab": {
          "base_uri": "https://localhost:8080/"
        },
        "id": "3ZvgR111T1bJ",
        "outputId": "ed1a1dcb-604f-463c-e28a-52b05e9b57c9"
      },
      "execution_count": 25,
      "outputs": [
        {
          "output_type": "execute_result",
          "data": {
            "text/plain": [
              "(917, 13)"
            ]
          },
          "metadata": {},
          "execution_count": 25
        }
      ]
    },
    {
      "cell_type": "code",
      "source": [
        "for col_name in col:\n",
        "  if (insurance[col_name].dtypes == 'int64' or insurance[col_name].dtypes== 'float64'):\n",
        "    plt.boxplot(insurance[col_name])\n",
        "    plt.xlabel(col_name)\n",
        "    plt.ylabel('count')\n",
        "    plt.show()"
      ],
      "metadata": {
        "colab": {
          "base_uri": "https://localhost:8080/",
          "height": 1000
        },
        "id": "hU9PY5D-VFR_",
        "outputId": "b4729a42-fa27-4f39-f479-1aedbdc6e567"
      },
      "execution_count": 26,
      "outputs": [
        {
          "output_type": "display_data",
          "data": {
            "text/plain": [
              "<Figure size 640x480 with 1 Axes>"
            ],
            "image/png": "[encoded data removed]"
          },
          "metadata": {}
        },
        {
          "output_type": "display_data",
          "data": {
            "text/plain": [
              "<Figure size 640x480 with 1 Axes>"
            ],
            "image/png": "[encoded data removed]"
          },
          "metadata": {}
        },
        {
          "output_type": "display_data",
          "data": {
            "text/plain": [
              "<Figure size 640x480 with 1 Axes>"
            ],
            "image/png": "[encoded data removed]"
          },
          "metadata": {}
        },
        {
          "output_type": "display_data",
          "data": {
            "text/plain": [
              "<Figure size 640x480 with 1 Axes>"
            ],
            "image/png": "[encoded data removed]"
          },
          "metadata": {}
        },
        {
          "output_type": "display_data",
          "data": {
            "text/plain": [
              "<Figure size 640x480 with 1 Axes>"
            ],
            "image/png": "[encoded data removed]"
          },
          "metadata": {}
        },
        {
          "output_type": "display_data",
          "data": {
            "text/plain": [
              "<Figure size 640x480 with 1 Axes>"
            ],
            "image/png": "[encoded data removed]"
          },
          "metadata": {}
        },
        {
          "output_type": "display_data",
          "data": {
            "text/plain": [
              "<Figure size 640x480 with 1 Axes>"
            ],
            "image/png": "[encoded data removed]"
          },
          "metadata": {}
        },
        {
          "output_type": "display_data",
          "data": {
            "text/plain": [
              "<Figure size 640x480 with 1 Axes>"
            ],
            "image/png": "[encoded data removed]"
          },
          "metadata": {}
        },
        {
          "output_type": "display_data",
          "data": {
            "text/plain": [
              "<Figure size 640x480 with 1 Axes>"
            ],
            "image/png": "[encoded data removed]"
          },
          "metadata": {}
        },
        {
          "output_type": "display_data",
          "data": {
            "text/plain": [
              "<Figure size 640x480 with 1 Axes>"
            ],
            "image/png": "[encoded data removed]"
          },
          "metadata": {}
        }
      ]
    },
    {
      "cell_type": "code",
      "source": [
        "# Feature Selection -  To see which columns to pass model and which one to drop\n",
        "# VIF - Variance Inflation factor\n",
        "# Works with multi colinearity\n",
        "# Relation between multiple corelation between variables"
      ],
      "metadata": {
        "id": "PHkYWlWVlq14"
      },
      "execution_count": null,
      "outputs": []
    },
    {
      "cell_type": "code",
      "source": [
        "# Independent variable\n",
        "# dependent variable"
      ],
      "metadata": {
        "id": "Wf92n85XmxUM"
      },
      "execution_count": 28,
      "outputs": []
    },
    {
      "cell_type": "code",
      "source": [
        "# VIF = 1, Variables are not related\n",
        "# VIF (1-6), Variables are moderately acceptable, acceptable\n",
        "# VIF >6, Variables are highly correlated ( Drop those columns)\n",
        "# x - independed column\n",
        "# y - dependent column (Target Variable)\n",
        "# multi colinearity is 5 or 6\n",
        "# age, gender, dob, ... charges"
      ],
      "metadata": {
        "id": "ECgFdnFTm6x_"
      },
      "execution_count": 29,
      "outputs": []
    },
    {
      "cell_type": "code",
      "source": [
        "insurance.columns"
      ],
      "metadata": {
        "colab": {
          "base_uri": "https://localhost:8080/"
        },
        "id": "fKINAZA1oO8l",
        "outputId": "8200e92e-5147-4179-b234-36823c592db5"
      },
      "execution_count": 30,
      "outputs": [
        {
          "output_type": "execute_result",
          "data": {
            "text/plain": [
              "Index(['age', 'sex', 'bmi', 'children', 'smoker', 'Claim_Amount',\n",
              "       'past_consultations', 'num_of_steps', 'Hospital_expenditure',\n",
              "       'NUmber_of_past_hospitalizations', 'Anual_Salary', 'region', 'charges'],\n",
              "      dtype='object')"
            ]
          },
          "metadata": {},
          "execution_count": 30
        }
      ]
    },
    {
      "cell_type": "code",
      "source": [
        "from statsmodels.stats.outliers_influence import variance_inflation_factor\n",
        "col_list = []\n",
        "for col in insurance.columns:\n",
        "  if ((insurance[col].dtype != 'object') & (col != 'charges')): # only  num columns except for charges\n",
        "    col_list.append(col)"
      ],
      "metadata": {
        "id": "-S4nQI6an9xm"
      },
      "execution_count": 33,
      "outputs": []
    },
    {
      "cell_type": "code",
      "source": [
        "col_list"
      ],
      "metadata": {
        "colab": {
          "base_uri": "https://localhost:8080/"
        },
        "id": "-6VchsBjpMN4",
        "outputId": "ad6f9e8a-6c05-46ac-f36e-79119c1e2c75"
      },
      "execution_count": 34,
      "outputs": [
        {
          "output_type": "execute_result",
          "data": {
            "text/plain": [
              "['age',\n",
              " 'bmi',\n",
              " 'children',\n",
              " 'Claim_Amount',\n",
              " 'past_consultations',\n",
              " 'num_of_steps',\n",
              " 'Hospital_expenditure',\n",
              " 'NUmber_of_past_hospitalizations',\n",
              " 'Anual_Salary']"
            ]
          },
          "metadata": {},
          "execution_count": 34
        }
      ]
    },
    {
      "cell_type": "code",
      "source": [
        "X = insurance[col_list]\n",
        "X"
      ],
      "metadata": {
        "colab": {
          "base_uri": "https://localhost:8080/",
          "height": 443
        },
        "id": "rM5TVr8-6-bc",
        "outputId": "42bc304a-1d66-49b8-8330-89de54b5ab62"
      },
      "execution_count": 35,
      "outputs": [
        {
          "output_type": "execute_result",
          "data": {
            "text/plain": [
              "      age     bmi  children  Claim_Amount  past_consultations  num_of_steps  \\\n",
              "0    18.0  23.210       0.0   29087.54313                17.0      715428.0   \n",
              "1    18.0  30.140       0.0   39053.67437                 7.0      699157.0   \n",
              "2    18.0  33.330       0.0   39023.62759                19.0      702341.0   \n",
              "3    18.0  33.660       0.0   28185.39332                11.0      700250.0   \n",
              "4    18.0  34.100       0.0   14697.85941                16.0      711584.0   \n",
              "..    ...     ...       ...           ...                 ...           ...   \n",
              "952  61.0  32.300       2.0   12016.80748                20.0      956170.0   \n",
              "953  18.0  38.280       0.0   29441.40783                19.0      960921.0   \n",
              "961  63.0  21.660       1.0   32307.55421                17.0      948758.0   \n",
              "968  23.0  23.180       2.0   46542.86192                18.0      957638.0   \n",
              "976  64.0  32.965       0.0   58313.91875                23.0      961229.0   \n",
              "\n",
              "     Hospital_expenditure  NUmber_of_past_hospitalizations  Anual_Salary  \n",
              "0            4.720921e+06                              0.0  5.578497e+07  \n",
              "1            4.329832e+06                              0.0  1.370089e+07  \n",
              "2            6.884861e+06                              0.0  7.352311e+07  \n",
              "3            4.274774e+06                              0.0  7.581968e+07  \n",
              "4            3.787294e+06                              0.0  2.301232e+07  \n",
              "..                    ...                              ...           ...  \n",
              "952          5.078821e+06                              1.0  2.120264e+08  \n",
              "953          1.100894e+07                              1.0  2.192346e+08  \n",
              "961          7.184029e+06                              1.0  2.176866e+08  \n",
              "968          1.178029e+07                              1.0  2.264021e+08  \n",
              "976          6.171240e+06                              1.0  2.299029e+08  \n",
              "\n",
              "[917 rows x 9 columns]"
            ],
            "text/html": [
              "\n",
              "  <div id=\"df-ba3a8c6d-aa84-49bc-a431-fb04f351b24a\" class=\"colab-df-container\">\n",
              "    <div>\n",
              "<style scoped>\n",
              "    .dataframe tbody tr th:only-of-type {\n",
              "        vertical-align: middle;\n",
              "    }\n",
              "\n",
              "    .dataframe tbody tr th {\n",
              "        vertical-align: top;\n",
              "    }\n",
              "\n",
              "    .dataframe thead th {\n",
              "        text-align: right;\n",
              "    }\n",
              "</style>\n",
              "<table border=\"1\" class=\"dataframe\">\n",
              "  <thead>\n",
              "    <tr style=\"text-align: right;\">\n",
              "      <th></th>\n",
              "      <th>age</th>\n",
              "      <th>bmi</th>\n",
              "      <th>children</th>\n",
              "      <th>Claim_Amount</th>\n",
              "      <th>past_consultations</th>\n",
              "      <th>num_of_steps</th>\n",
              "      <th>Hospital_expenditure</th>\n",
              "      <th>NUmber_of_past_hospitalizations</th>\n",
              "      <th>Anual_Salary</th>\n",
              "    </tr>\n",
              "  </thead>\n",
              "  <tbody>\n",
              "    <tr>\n",
              "      <th>0</th>\n",
              "      <td>18.0</td>\n",
              "      <td>23.210</td>\n",
              "      <td>0.0</td>\n",
              "      <td>29087.54313</td>\n",
              "      <td>17.0</td>\n",
              "      <td>715428.0</td>\n",
              "      <td>4.720921e+06</td>\n",
              "      <td>0.0</td>\n",
              "      <td>5.578497e+07</td>\n",
              "    </tr>\n",
              "    <tr>\n",
              "      <th>1</th>\n",
              "      <td>18.0</td>\n",
              "      <td>30.140</td>\n",
              "      <td>0.0</td>\n",
              "      <td>39053.67437</td>\n",
              "      <td>7.0</td>\n",
              "      <td>699157.0</td>\n",
              "      <td>4.329832e+06</td>\n",
              "      <td>0.0</td>\n",
              "      <td>1.370089e+07</td>\n",
              "    </tr>\n",
              "    <tr>\n",
              "      <th>2</th>\n",
              "      <td>18.0</td>\n",
              "      <td>33.330</td>\n",
              "      <td>0.0</td>\n",
              "      <td>39023.62759</td>\n",
              "      <td>19.0</td>\n",
              "      <td>702341.0</td>\n",
              "      <td>6.884861e+06</td>\n",
              "      <td>0.0</td>\n",
              "      <td>7.352311e+07</td>\n",
              "    </tr>\n",
              "    <tr>\n",
              "      <th>3</th>\n",
              "      <td>18.0</td>\n",
              "      <td>33.660</td>\n",
              "      <td>0.0</td>\n",
              "      <td>28185.39332</td>\n",
              "      <td>11.0</td>\n",
              "      <td>700250.0</td>\n",
              "      <td>4.274774e+06</td>\n",
              "      <td>0.0</td>\n",
              "      <td>7.581968e+07</td>\n",
              "    </tr>\n",
              "    <tr>\n",
              "      <th>4</th>\n",
              "      <td>18.0</td>\n",
              "      <td>34.100</td>\n",
              "      <td>0.0</td>\n",
              "      <td>14697.85941</td>\n",
              "      <td>16.0</td>\n",
              "      <td>711584.0</td>\n",
              "      <td>3.787294e+06</td>\n",
              "      <td>0.0</td>\n",
              "      <td>2.301232e+07</td>\n",
              "    </tr>\n",
              "    <tr>\n",
              "      <th>...</th>\n",
              "      <td>...</td>\n",
              "      <td>...</td>\n",
              "      <td>...</td>\n",
              "      <td>...</td>\n",
              "      <td>...</td>\n",
              "      <td>...</td>\n",
              "      <td>...</td>\n",
              "      <td>...</td>\n",
              "      <td>...</td>\n",
              "    </tr>\n",
              "    <tr>\n",
              "      <th>952</th>\n",
              "      <td>61.0</td>\n",
              "      <td>32.300</td>\n",
              "      <td>2.0</td>\n",
              "      <td>12016.80748</td>\n",
              "      <td>20.0</td>\n",
              "      <td>956170.0</td>\n",
              "      <td>5.078821e+06</td>\n",
              "      <td>1.0</td>\n",
              "      <td>2.120264e+08</td>\n",
              "    </tr>\n",
              "    <tr>\n",
              "      <th>953</th>\n",
              "      <td>18.0</td>\n",
              "      <td>38.280</td>\n",
              "      <td>0.0</td>\n",
              "      <td>29441.40783</td>\n",
              "      <td>19.0</td>\n",
              "      <td>960921.0</td>\n",
              "      <td>1.100894e+07</td>\n",
              "      <td>1.0</td>\n",
              "      <td>2.192346e+08</td>\n",
              "    </tr>\n",
              "    <tr>\n",
              "      <th>961</th>\n",
              "      <td>63.0</td>\n",
              "      <td>21.660</td>\n",
              "      <td>1.0</td>\n",
              "      <td>32307.55421</td>\n",
              "      <td>17.0</td>\n",
              "      <td>948758.0</td>\n",
              "      <td>7.184029e+06</td>\n",
              "      <td>1.0</td>\n",
              "      <td>2.176866e+08</td>\n",
              "    </tr>\n",
              "    <tr>\n",
              "      <th>968</th>\n",
              "      <td>23.0</td>\n",
              "      <td>23.180</td>\n",
              "      <td>2.0</td>\n",
              "      <td>46542.86192</td>\n",
              "      <td>18.0</td>\n",
              "      <td>957638.0</td>\n",
              "      <td>1.178029e+07</td>\n",
              "      <td>1.0</td>\n",
              "      <td>2.264021e+08</td>\n",
              "    </tr>\n",
              "    <tr>\n",
              "      <th>976</th>\n",
              "      <td>64.0</td>\n",
              "      <td>32.965</td>\n",
              "      <td>0.0</td>\n",
              "      <td>58313.91875</td>\n",
              "      <td>23.0</td>\n",
              "      <td>961229.0</td>\n",
              "      <td>6.171240e+06</td>\n",
              "      <td>1.0</td>\n",
              "      <td>2.299029e+08</td>\n",
              "    </tr>\n",
              "  </tbody>\n",
              "</table>\n",
              "<p>917 rows × 9 columns</p>\n",
              "</div>\n",
              "    <div class=\"colab-df-buttons\">\n",
              "\n",
              "  <div class=\"colab-df-container\">\n",
              "    <button class=\"colab-df-convert\" onclick=\"convertToInteractive('df-ba3a8c6d-aa84-49bc-a431-fb04f351b24a')\"\n",
              "            title=\"Convert this dataframe to an interactive table.\"\n",
              "            style=\"display:none;\">\n",
              "\n",
              "  <svg xmlns=\"http://www.w3.org/2000/svg\" height=\"24px\" viewBox=\"0 -960 960 960\">\n",
              "    <path d=\"M120-120v-720h720v720H120Zm60-500h600v-160H180v160Zm220 220h160v-160H400v160Zm0 220h160v-160H400v160ZM180-400h160v-160H180v160Zm440 0h160v-160H620v160ZM180-180h160v-160H180v160Zm440 0h160v-160H620v160Z\"/>\n",
              "  </svg>\n",
              "    </button>\n",
              "\n",
              "  <style>\n",
              "    .colab-df-container {\n",
              "      display:flex;\n",
              "      gap: 12px;\n",
              "    }\n",
              "\n",
              "    .colab-df-convert {\n",
              "      background-color: #E8F0FE;\n",
              "      border: none;\n",
              "      border-radius: 50%;\n",
              "      cursor: pointer;\n",
              "      display: none;\n",
              "      fill: #1967D2;\n",
              "      height: 32px;\n",
              "      padding: 0 0 0 0;\n",
              "      width: 32px;\n",
              "    }\n",
              "\n",
              "    .colab-df-convert:hover {\n",
              "      background-color: #E2EBFA;\n",
              "      box-shadow: 0px 1px 2px rgba(60, 64, 67, 0.3), 0px 1px 3px 1px rgba(60, 64, 67, 0.15);\n",
              "      fill: #174EA6;\n",
              "    }\n",
              "\n",
              "    .colab-df-buttons div {\n",
              "      margin-bottom: 4px;\n",
              "    }\n",
              "\n",
              "    [theme=dark] .colab-df-convert {\n",
              "      background-color: #3B4455;\n",
              "      fill: #D2E3FC;\n",
              "    }\n",
              "\n",
              "    [theme=dark] .colab-df-convert:hover {\n",
              "      background-color: #434B5C;\n",
              "      box-shadow: 0px 1px 3px 1px rgba(0, 0, 0, 0.15);\n",
              "      filter: drop-shadow(0px 1px 2px rgba(0, 0, 0, 0.3));\n",
              "      fill: #FFFFFF;\n",
              "    }\n",
              "  </style>\n",
              "\n",
              "    <script>\n",
              "      const buttonEl =\n",
              "        document.querySelector('#df-ba3a8c6d-aa84-49bc-a431-fb04f351b24a button.colab-df-convert');\n",
              "      buttonEl.style.display =\n",
              "        google.colab.kernel.accessAllowed ? 'block' : 'none';\n",
              "\n",
              "      async function convertToInteractive(key) {\n",
              "        const element = document.querySelector('#df-ba3a8c6d-aa84-49bc-a431-fb04f351b24a');\n",
              "        const dataTable =\n",
              "          await google.colab.kernel.invokeFunction('convertToInteractive',\n",
              "                                                    [key], {});\n",
              "        if (!dataTable) return;\n",
              "\n",
              "        const docLinkHtml = 'Like what you see? Visit the ' +\n",
              "          '<a target=\"_blank\" href=https://colab.research.google.com/notebooks/data_table.ipynb>data table notebook</a>'\n",
              "          + ' to learn more about interactive tables.';\n",
              "        element.innerHTML = '';\n",
              "        dataTable['output_type'] = 'display_data';\n",
              "        await google.colab.output.renderOutput(dataTable, element);\n",
              "        const docLink = document.createElement('div');\n",
              "        docLink.innerHTML = docLinkHtml;\n",
              "        element.appendChild(docLink);\n",
              "      }\n",
              "    </script>\n",
              "  </div>\n",
              "\n",
              "\n",
              "<div id=\"df-0d538c12-b4f0-43ab-b250-7d06091aa50e\">\n",
              "  <button class=\"colab-df-quickchart\" onclick=\"quickchart('df-0d538c12-b4f0-43ab-b250-7d06091aa50e')\"\n",
              "            title=\"Suggest charts\"\n",
              "            style=\"display:none;\">\n",
              "\n",
              "<svg xmlns=\"http://www.w3.org/2000/svg\" height=\"24px\"viewBox=\"0 0 24 24\"\n",
              "     width=\"24px\">\n",
              "    <g>\n",
              "        <path d=\"M19 3H5c-1.1 0-2 .9-2 2v14c0 1.1.9 2 2 2h14c1.1 0 2-.9 2-2V5c0-1.1-.9-2-2-2zM9 17H7v-7h2v7zm4 0h-2V7h2v10zm4 0h-2v-4h2v4z\"/>\n",
              "    </g>\n",
              "</svg>\n",
              "  </button>\n",
              "\n",
              "<style>\n",
              "  .colab-df-quickchart {\n",
              "      --bg-color: #E8F0FE;\n",
              "      --fill-color: #1967D2;\n",
              "      --hover-bg-color: #E2EBFA;\n",
              "      --hover-fill-color: #174EA6;\n",
              "      --disabled-fill-color: #AAA;\n",
              "      --disabled-bg-color: #DDD;\n",
              "  }\n",
              "\n",
              "  [theme=dark] .colab-df-quickchart {\n",
              "      --bg-color: #3B4455;\n",
              "      --fill-color: #D2E3FC;\n",
              "      --hover-bg-color: #434B5C;\n",
              "      --hover-fill-color: #FFFFFF;\n",
              "      --disabled-bg-color: #3B4455;\n",
              "      --disabled-fill-color: #666;\n",
              "  }\n",
              "\n",
              "  .colab-df-quickchart {\n",
              "    background-color: var(--bg-color);\n",
              "    border: none;\n",
              "    border-radius: 50%;\n",
              "    cursor: pointer;\n",
              "    display: none;\n",
              "    fill: var(--fill-color);\n",
              "    height: 32px;\n",
              "    padding: 0;\n",
              "    width: 32px;\n",
              "  }\n",
              "\n",
              "  .colab-df-quickchart:hover {\n",
              "    background-color: var(--hover-bg-color);\n",
              "    box-shadow: 0 1px 2px rgba(60, 64, 67, 0.3), 0 1px 3px 1px rgba(60, 64, 67, 0.15);\n",
              "    fill: var(--button-hover-fill-color);\n",
              "  }\n",
              "\n",
              "  .colab-df-quickchart-complete:disabled,\n",
              "  .colab-df-quickchart-complete:disabled:hover {\n",
              "    background-color: var(--disabled-bg-color);\n",
              "    fill: var(--disabled-fill-color);\n",
              "    box-shadow: none;\n",
              "  }\n",
              "\n",
              "  .colab-df-spinner {\n",
              "    border: 2px solid var(--fill-color);\n",
              "    border-color: transparent;\n",
              "    border-bottom-color: var(--fill-color);\n",
              "    animation:\n",
              "      spin 1s steps(1) infinite;\n",
              "  }\n",
              "\n",
              "  @keyframes spin {\n",
              "    0% {\n",
              "      border-color: transparent;\n",
              "      border-bottom-color: var(--fill-color);\n",
              "      border-left-color: var(--fill-color);\n",
              "    }\n",
              "    20% {\n",
              "      border-color: transparent;\n",
              "      border-left-color: var(--fill-color);\n",
              "      border-top-color: var(--fill-color);\n",
              "    }\n",
              "    30% {\n",
              "      border-color: transparent;\n",
              "      border-left-color: var(--fill-color);\n",
              "      border-top-color: var(--fill-color);\n",
              "      border-right-color: var(--fill-color);\n",
              "    }\n",
              "    40% {\n",
              "      border-color: transparent;\n",
              "      border-right-color: var(--fill-color);\n",
              "      border-top-color: var(--fill-color);\n",
              "    }\n",
              "    60% {\n",
              "      border-color: transparent;\n",
              "      border-right-color: var(--fill-color);\n",
              "    }\n",
              "    80% {\n",
              "      border-color: transparent;\n",
              "      border-right-color: var(--fill-color);\n",
              "      border-bottom-color: var(--fill-color);\n",
              "    }\n",
              "    90% {\n",
              "      border-color: transparent;\n",
              "      border-bottom-color: var(--fill-color);\n",
              "    }\n",
              "  }\n",
              "</style>\n",
              "\n",
              "  <script>\n",
              "    async function quickchart(key) {\n",
              "      const quickchartButtonEl =\n",
              "        document.querySelector('#' + key + ' button');\n",
              "      quickchartButtonEl.disabled = true;  // To prevent multiple clicks.\n",
              "      quickchartButtonEl.classList.add('colab-df-spinner');\n",
              "      try {\n",
              "        const charts = await google.colab.kernel.invokeFunction(\n",
              "            'suggestCharts', [key], {});\n",
              "      } catch (error) {\n",
              "        console.error('Error during call to suggestCharts:', error);\n",
              "      }\n",
              "      quickchartButtonEl.classList.remove('colab-df-spinner');\n",
              "      quickchartButtonEl.classList.add('colab-df-quickchart-complete');\n",
              "    }\n",
              "    (() => {\n",
              "      let quickchartButtonEl =\n",
              "        document.querySelector('#df-0d538c12-b4f0-43ab-b250-7d06091aa50e button');\n",
              "      quickchartButtonEl.style.display =\n",
              "        google.colab.kernel.accessAllowed ? 'block' : 'none';\n",
              "    })();\n",
              "  </script>\n",
              "</div>\n",
              "    </div>\n",
              "  </div>\n"
            ]
          },
          "metadata": {},
          "execution_count": 35
        }
      ]
    },
    {
      "cell_type": "code",
      "source": [
        "X.columns"
      ],
      "metadata": {
        "colab": {
          "base_uri": "https://localhost:8080/"
        },
        "id": "VLVkFOMz7KmB",
        "outputId": "5abfe6ca-033c-4006-afaa-544b11feb5ac"
      },
      "execution_count": 36,
      "outputs": [
        {
          "output_type": "execute_result",
          "data": {
            "text/plain": [
              "Index(['age', 'bmi', 'children', 'Claim_Amount', 'past_consultations',\n",
              "       'num_of_steps', 'Hospital_expenditure',\n",
              "       'NUmber_of_past_hospitalizations', 'Anual_Salary'],\n",
              "      dtype='object')"
            ]
          },
          "metadata": {},
          "execution_count": 36
        }
      ]
    },
    {
      "cell_type": "code",
      "source": [
        "# To get only values, write X.values to extract only values and not column names\n",
        "X.values"
      ],
      "metadata": {
        "colab": {
          "base_uri": "https://localhost:8080/"
        },
        "id": "fxClu44X7iAc",
        "outputId": "5689b039-d685-4a90-a790-7c02d9c27ee1"
      },
      "execution_count": 37,
      "outputs": [
        {
          "output_type": "execute_result",
          "data": {
            "text/plain": [
              "array([[1.80000000e+01, 2.32100000e+01, 0.00000000e+00, ...,\n",
              "        4.72092099e+06, 0.00000000e+00, 5.57849700e+07],\n",
              "       [1.80000000e+01, 3.01400000e+01, 0.00000000e+00, ...,\n",
              "        4.32983168e+06, 0.00000000e+00, 1.37008852e+07],\n",
              "       [1.80000000e+01, 3.33300000e+01, 0.00000000e+00, ...,\n",
              "        6.88486077e+06, 0.00000000e+00, 7.35231073e+07],\n",
              "       ...,\n",
              "       [6.30000000e+01, 2.16600000e+01, 1.00000000e+00, ...,\n",
              "        7.18402893e+06, 1.00000000e+00, 2.17686612e+08],\n",
              "       [2.30000000e+01, 2.31800000e+01, 2.00000000e+00, ...,\n",
              "        1.17802904e+07, 1.00000000e+00, 2.26402084e+08],\n",
              "       [6.40000000e+01, 3.29650000e+01, 0.00000000e+00, ...,\n",
              "        6.17124013e+06, 1.00000000e+00, 2.29902851e+08]])"
            ]
          },
          "metadata": {},
          "execution_count": 37
        }
      ]
    },
    {
      "cell_type": "code",
      "source": [
        "for i in range(len(X.columns)):\n",
        "  print(i)"
      ],
      "metadata": {
        "colab": {
          "base_uri": "https://localhost:8080/"
        },
        "id": "tge9nsYg99dY",
        "outputId": "61664f1f-b3c2-4395-d18a-9a4a7465b693"
      },
      "execution_count": 42,
      "outputs": [
        {
          "output_type": "stream",
          "name": "stdout",
          "text": [
            "0\n",
            "1\n",
            "2\n",
            "3\n",
            "4\n",
            "5\n",
            "6\n",
            "7\n",
            "8\n"
          ]
        }
      ]
    },
    {
      "cell_type": "code",
      "source": [
        "# To get VIF, we only need to pass values\n",
        "vif_data = pd.DataFrame()#create empty data frame\n",
        "vif_data\n",
        "vif_data[\"features\"] = X.columns # WE will have a column by name features and all the columns will be added here\n",
        "vif_data[\"VIF\"] = [variance_inflation_factor(X.values, i) for i in range(len(X.columns))]\n",
        "print(vif_data)"
      ],
      "metadata": {
        "colab": {
          "base_uri": "https://localhost:8080/"
        },
        "id": "wGfvZoah7vn9",
        "outputId": "80c5b5ec-fa18-4cf7-f5e5-9b4ff700cd07"
      },
      "execution_count": 43,
      "outputs": [
        {
          "output_type": "stream",
          "name": "stdout",
          "text": [
            "                          features        VIF\n",
            "0                              age  30.137230\n",
            "1                              bmi  26.767895\n",
            "2                         children   2.142782\n",
            "3                     Claim_Amount   5.493362\n",
            "4               past_consultations   6.011188\n",
            "5                     num_of_steps  62.030139\n",
            "6             Hospital_expenditure   4.731785\n",
            "7  NUmber_of_past_hospitalizations  11.357691\n",
            "8                     Anual_Salary  10.813571\n"
          ]
        }
      ]
    },
    {
      "cell_type": "code",
      "source": [
        "# First we will remove num_of steps column with highest VIF and one by one we will remove and check VIF again\n",
        "insurance = insurance.drop(['num_of_steps'], axis=1)"
      ],
      "metadata": {
        "id": "H5_R3UiEAT0-"
      },
      "execution_count": 44,
      "outputs": []
    },
    {
      "cell_type": "code",
      "source": [
        "# We will check the VIF again and see:\n",
        "col_list = []\n",
        "for col in insurance.columns:\n",
        "  if ((insurance[col].dtype != 'object') & (col != 'charges')):\n",
        "    col_list.append(col)\n",
        "\n",
        "X = insurance[col_list]\n",
        "vif_data = pd.DataFrame()\n",
        "vif_data[\"features\"] = X.columns\n",
        "vif_data[\"VIF\"] = [variance_inflation_factor(X.values, i) for i in range(len(X.columns))]\n",
        "print(vif_data)"
      ],
      "metadata": {
        "colab": {
          "base_uri": "https://localhost:8080/"
        },
        "id": "6qwswDwHApSg",
        "outputId": "aa745c48-4e8d-49cf-ff9a-1089691166d8"
      },
      "execution_count": 45,
      "outputs": [
        {
          "output_type": "stream",
          "name": "stdout",
          "text": [
            "                          features        VIF\n",
            "0                              age  26.787151\n",
            "1                              bmi  12.156676\n",
            "2                         children   2.110979\n",
            "3                     Claim_Amount   5.211056\n",
            "4               past_consultations   5.607546\n",
            "5             Hospital_expenditure   4.524130\n",
            "6  NUmber_of_past_hospitalizations  10.639255\n",
            "7                     Anual_Salary  10.790843\n"
          ]
        }
      ]
    },
    {
      "cell_type": "code",
      "source": [
        "insurance = insurance.drop(['age'], axis=1)"
      ],
      "metadata": {
        "id": "rbuIp6wAENxA"
      },
      "execution_count": 46,
      "outputs": []
    },
    {
      "cell_type": "code",
      "source": [
        "# we will run VIF again\n",
        "col_list = []\n",
        "for col in insurance.columns:\n",
        "  if ((insurance[col].dtype != 'object') & (col != 'charges')):\n",
        "    col_list.append(col)\n",
        "\n",
        "X = insurance[col_list]\n",
        "vif_data = pd.DataFrame()\n",
        "vif_data[\"features\"] = X.columns\n",
        "vif_data[\"VIF\"] = [variance_inflation_factor(X.values, i) for i in range(len(X.columns))]\n",
        "print(vif_data)"
      ],
      "metadata": {
        "colab": {
          "base_uri": "https://localhost:8080/"
        },
        "id": "lgKUj2f3EhNz",
        "outputId": "cb4c0378-2b4e-41f6-9a43-63d028f155f6"
      },
      "execution_count": 47,
      "outputs": [
        {
          "output_type": "stream",
          "name": "stdout",
          "text": [
            "                          features        VIF\n",
            "0                              bmi  10.983781\n",
            "1                         children   2.024288\n",
            "2                     Claim_Amount   5.125063\n",
            "3               past_consultations   5.555205\n",
            "4             Hospital_expenditure   4.489896\n",
            "5  NUmber_of_past_hospitalizations   8.248242\n",
            "6                     Anual_Salary   5.971676\n"
          ]
        }
      ]
    },
    {
      "cell_type": "code",
      "source": [
        "#we will remove bmi column\n",
        "insurance = insurance.drop(['bmi'], axis=1)"
      ],
      "metadata": {
        "id": "VI6MGil2EqY7"
      },
      "execution_count": 48,
      "outputs": []
    },
    {
      "cell_type": "code",
      "source": [
        "# We will run again\n",
        "col_list = []\n",
        "for col in insurance.columns:\n",
        "  if ((insurance[col].dtype != 'object') & (col != 'charges')):\n",
        "    col_list.append(col)\n",
        "\n",
        "X = insurance[col_list]\n",
        "vif_data = pd.DataFrame()\n",
        "vif_data[\"features\"] = X.columns\n",
        "vif_data[\"VIF\"] = [variance_inflation_factor(X.values, i) for i in range(len(X.columns))]\n",
        "print(vif_data)"
      ],
      "metadata": {
        "colab": {
          "base_uri": "https://localhost:8080/"
        },
        "id": "LKS-T2MLFAMh",
        "outputId": "4561ac72-0b72-47e1-d6c0-93c6e70951f2"
      },
      "execution_count": 49,
      "outputs": [
        {
          "output_type": "stream",
          "name": "stdout",
          "text": [
            "                          features       VIF\n",
            "0                         children  2.021494\n",
            "1                     Claim_Amount  4.401428\n",
            "2               past_consultations  4.893055\n",
            "3             Hospital_expenditure  3.985074\n",
            "4  NUmber_of_past_hospitalizations  7.693719\n",
            "5                     Anual_Salary  5.916854\n"
          ]
        }
      ]
    },
    {
      "cell_type": "code",
      "source": [
        "# remove number_of_past_hospitalizations\n",
        "insurance = insurance.drop(['NUmber_of_past_hospitalizations'],axis=1)"
      ],
      "metadata": {
        "id": "EIkFXjE7FT-c"
      },
      "execution_count": 52,
      "outputs": []
    },
    {
      "cell_type": "code",
      "source": [
        "# Run again\n",
        "col_list = []\n",
        "for col in insurance.columns:\n",
        "  if ((insurance[col].dtype != 'object') & (col != 'charges')):\n",
        "    col_list.append(col)\n",
        "\n",
        "X = insurance[col_list]\n",
        "vif_data = pd.DataFrame()\n",
        "vif_data[\"features\"] = X.columns\n",
        "vif_data[\"VIF\"] = [variance_inflation_factor(X.values, i) for i in range(len(X.columns))]\n",
        "print(vif_data)"
      ],
      "metadata": {
        "colab": {
          "base_uri": "https://localhost:8080/"
        },
        "id": "mTL7ThIlF1Jl",
        "outputId": "ace1a84c-48cd-4793-83b8-159388c71e44"
      },
      "execution_count": 53,
      "outputs": [
        {
          "output_type": "stream",
          "name": "stdout",
          "text": [
            "               features       VIF\n",
            "0              children  1.743732\n",
            "1          Claim_Amount  4.170080\n",
            "2    past_consultations  4.699621\n",
            "3  Hospital_expenditure  3.846250\n",
            "4          Anual_Salary  4.773932\n"
          ]
        }
      ]
    },
    {
      "cell_type": "code",
      "source": [
        "# divide data into x and y for model building\n",
        "x = insurance.loc[:, ['children', 'Claim_Amount', 'past_consultations', 'Hospital_expenditure','Anual_Salary']]\n",
        "y= insurance.iloc[:,-1]"
      ],
      "metadata": {
        "id": "taqVRDSNGDAW"
      },
      "execution_count": 54,
      "outputs": []
    },
    {
      "cell_type": "code",
      "source": [
        "x"
      ],
      "metadata": {
        "colab": {
          "base_uri": "https://localhost:8080/",
          "height": 423
        },
        "id": "qg3xB2sMGdvA",
        "outputId": "8d9481f2-9de7-42d2-fe1a-1a38e45e02cd"
      },
      "execution_count": 55,
      "outputs": [
        {
          "output_type": "execute_result",
          "data": {
            "text/plain": [
              "     children  Claim_Amount  past_consultations  Hospital_expenditure  \\\n",
              "0         0.0   29087.54313                17.0          4.720921e+06   \n",
              "1         0.0   39053.67437                 7.0          4.329832e+06   \n",
              "2         0.0   39023.62759                19.0          6.884861e+06   \n",
              "3         0.0   28185.39332                11.0          4.274774e+06   \n",
              "4         0.0   14697.85941                16.0          3.787294e+06   \n",
              "..        ...           ...                 ...                   ...   \n",
              "952       2.0   12016.80748                20.0          5.078821e+06   \n",
              "953       0.0   29441.40783                19.0          1.100894e+07   \n",
              "961       1.0   32307.55421                17.0          7.184029e+06   \n",
              "968       2.0   46542.86192                18.0          1.178029e+07   \n",
              "976       0.0   58313.91875                23.0          6.171240e+06   \n",
              "\n",
              "     Anual_Salary  \n",
              "0    5.578497e+07  \n",
              "1    1.370089e+07  \n",
              "2    7.352311e+07  \n",
              "3    7.581968e+07  \n",
              "4    2.301232e+07  \n",
              "..            ...  \n",
              "952  2.120264e+08  \n",
              "953  2.192346e+08  \n",
              "961  2.176866e+08  \n",
              "968  2.264021e+08  \n",
              "976  2.299029e+08  \n",
              "\n",
              "[917 rows x 5 columns]"
            ],
            "text/html": [
              "\n",
              "  <div id=\"df-4e30fbe3-52ca-48b1-b200-1569a84c3de2\" class=\"colab-df-container\">\n",
              "    <div>\n",
              "<style scoped>\n",
              "    .dataframe tbody tr th:only-of-type {\n",
              "        vertical-align: middle;\n",
              "    }\n",
              "\n",
              "    .dataframe tbody tr th {\n",
              "        vertical-align: top;\n",
              "    }\n",
              "\n",
              "    .dataframe thead th {\n",
              "        text-align: right;\n",
              "    }\n",
              "</style>\n",
              "<table border=\"1\" class=\"dataframe\">\n",
              "  <thead>\n",
              "    <tr style=\"text-align: right;\">\n",
              "      <th></th>\n",
              "      <th>children</th>\n",
              "      <th>Claim_Amount</th>\n",
              "      <th>past_consultations</th>\n",
              "      <th>Hospital_expenditure</th>\n",
              "      <th>Anual_Salary</th>\n",
              "    </tr>\n",
              "  </thead>\n",
              "  <tbody>\n",
              "    <tr>\n",
              "      <th>0</th>\n",
              "      <td>0.0</td>\n",
              "      <td>29087.54313</td>\n",
              "      <td>17.0</td>\n",
              "      <td>4.720921e+06</td>\n",
              "      <td>5.578497e+07</td>\n",
              "    </tr>\n",
              "    <tr>\n",
              "      <th>1</th>\n",
              "      <td>0.0</td>\n",
              "      <td>39053.67437</td>\n",
              "      <td>7.0</td>\n",
              "      <td>4.329832e+06</td>\n",
              "      <td>1.370089e+07</td>\n",
              "    </tr>\n",
              "    <tr>\n",
              "      <th>2</th>\n",
              "      <td>0.0</td>\n",
              "      <td>39023.62759</td>\n",
              "      <td>19.0</td>\n",
              "      <td>6.884861e+06</td>\n",
              "      <td>7.352311e+07</td>\n",
              "    </tr>\n",
              "    <tr>\n",
              "      <th>3</th>\n",
              "      <td>0.0</td>\n",
              "      <td>28185.39332</td>\n",
              "      <td>11.0</td>\n",
              "      <td>4.274774e+06</td>\n",
              "      <td>7.581968e+07</td>\n",
              "    </tr>\n",
              "    <tr>\n",
              "      <th>4</th>\n",
              "      <td>0.0</td>\n",
              "      <td>14697.85941</td>\n",
              "      <td>16.0</td>\n",
              "      <td>3.787294e+06</td>\n",
              "      <td>2.301232e+07</td>\n",
              "    </tr>\n",
              "    <tr>\n",
              "      <th>...</th>\n",
              "      <td>...</td>\n",
              "      <td>...</td>\n",
              "      <td>...</td>\n",
              "      <td>...</td>\n",
              "      <td>...</td>\n",
              "    </tr>\n",
              "    <tr>\n",
              "      <th>952</th>\n",
              "      <td>2.0</td>\n",
              "      <td>12016.80748</td>\n",
              "      <td>20.0</td>\n",
              "      <td>5.078821e+06</td>\n",
              "      <td>2.120264e+08</td>\n",
              "    </tr>\n",
              "    <tr>\n",
              "      <th>953</th>\n",
              "      <td>0.0</td>\n",
              "      <td>29441.40783</td>\n",
              "      <td>19.0</td>\n",
              "      <td>1.100894e+07</td>\n",
              "      <td>2.192346e+08</td>\n",
              "    </tr>\n",
              "    <tr>\n",
              "      <th>961</th>\n",
              "      <td>1.0</td>\n",
              "      <td>32307.55421</td>\n",
              "      <td>17.0</td>\n",
              "      <td>7.184029e+06</td>\n",
              "      <td>2.176866e+08</td>\n",
              "    </tr>\n",
              "    <tr>\n",
              "      <th>968</th>\n",
              "      <td>2.0</td>\n",
              "      <td>46542.86192</td>\n",
              "      <td>18.0</td>\n",
              "      <td>1.178029e+07</td>\n",
              "      <td>2.264021e+08</td>\n",
              "    </tr>\n",
              "    <tr>\n",
              "      <th>976</th>\n",
              "      <td>0.0</td>\n",
              "      <td>58313.91875</td>\n",
              "      <td>23.0</td>\n",
              "      <td>6.171240e+06</td>\n",
              "      <td>2.299029e+08</td>\n",
              "    </tr>\n",
              "  </tbody>\n",
              "</table>\n",
              "<p>917 rows × 5 columns</p>\n",
              "</div>\n",
              "    <div class=\"colab-df-buttons\">\n",
              "\n",
              "  <div class=\"colab-df-container\">\n",
              "    <button class=\"colab-df-convert\" onclick=\"convertToInteractive('df-4e30fbe3-52ca-48b1-b200-1569a84c3de2')\"\n",
              "            title=\"Convert this dataframe to an interactive table.\"\n",
              "            style=\"display:none;\">\n",
              "\n",
              "  <svg xmlns=\"http://www.w3.org/2000/svg\" height=\"24px\" viewBox=\"0 -960 960 960\">\n",
              "    <path d=\"M120-120v-720h720v720H120Zm60-500h600v-160H180v160Zm220 220h160v-160H400v160Zm0 220h160v-160H400v160ZM180-400h160v-160H180v160Zm440 0h160v-160H620v160ZM180-180h160v-160H180v160Zm440 0h160v-160H620v160Z\"/>\n",
              "  </svg>\n",
              "    </button>\n",
              "\n",
              "  <style>\n",
              "    .colab-df-container {\n",
              "      display:flex;\n",
              "      gap: 12px;\n",
              "    }\n",
              "\n",
              "    .colab-df-convert {\n",
              "      background-color: #E8F0FE;\n",
              "      border: none;\n",
              "      border-radius: 50%;\n",
              "      cursor: pointer;\n",
              "      display: none;\n",
              "      fill: #1967D2;\n",
              "      height: 32px;\n",
              "      padding: 0 0 0 0;\n",
              "      width: 32px;\n",
              "    }\n",
              "\n",
              "    .colab-df-convert:hover {\n",
              "      background-color: #E2EBFA;\n",
              "      box-shadow: 0px 1px 2px rgba(60, 64, 67, 0.3), 0px 1px 3px 1px rgba(60, 64, 67, 0.15);\n",
              "      fill: #174EA6;\n",
              "    }\n",
              "\n",
              "    .colab-df-buttons div {\n",
              "      margin-bottom: 4px;\n",
              "    }\n",
              "\n",
              "    [theme=dark] .colab-df-convert {\n",
              "      background-color: #3B4455;\n",
              "      fill: #D2E3FC;\n",
              "    }\n",
              "\n",
              "    [theme=dark] .colab-df-convert:hover {\n",
              "      background-color: #434B5C;\n",
              "      box-shadow: 0px 1px 3px 1px rgba(0, 0, 0, 0.15);\n",
              "      filter: drop-shadow(0px 1px 2px rgba(0, 0, 0, 0.3));\n",
              "      fill: #FFFFFF;\n",
              "    }\n",
              "  </style>\n",
              "\n",
              "    <script>\n",
              "      const buttonEl =\n",
              "        document.querySelector('#df-4e30fbe3-52ca-48b1-b200-1569a84c3de2 button.colab-df-convert');\n",
              "      buttonEl.style.display =\n",
              "        google.colab.kernel.accessAllowed ? 'block' : 'none';\n",
              "\n",
              "      async function convertToInteractive(key) {\n",
              "        const element = document.querySelector('#df-4e30fbe3-52ca-48b1-b200-1569a84c3de2');\n",
              "        const dataTable =\n",
              "          await google.colab.kernel.invokeFunction('convertToInteractive',\n",
              "                                                    [key], {});\n",
              "        if (!dataTable) return;\n",
              "\n",
              "        const docLinkHtml = 'Like what you see? Visit the ' +\n",
              "          '<a target=\"_blank\" href=https://colab.research.google.com/notebooks/data_table.ipynb>data table notebook</a>'\n",
              "          + ' to learn more about interactive tables.';\n",
              "        element.innerHTML = '';\n",
              "        dataTable['output_type'] = 'display_data';\n",
              "        await google.colab.output.renderOutput(dataTable, element);\n",
              "        const docLink = document.createElement('div');\n",
              "        docLink.innerHTML = docLinkHtml;\n",
              "        element.appendChild(docLink);\n",
              "      }\n",
              "    </script>\n",
              "  </div>\n",
              "\n",
              "\n",
              "<div id=\"df-e9b8325d-6f24-4c2e-bc5d-2a833ead53e5\">\n",
              "  <button class=\"colab-df-quickchart\" onclick=\"quickchart('df-e9b8325d-6f24-4c2e-bc5d-2a833ead53e5')\"\n",
              "            title=\"Suggest charts\"\n",
              "            style=\"display:none;\">\n",
              "\n",
              "<svg xmlns=\"http://www.w3.org/2000/svg\" height=\"24px\"viewBox=\"0 0 24 24\"\n",
              "     width=\"24px\">\n",
              "    <g>\n",
              "        <path d=\"M19 3H5c-1.1 0-2 .9-2 2v14c0 1.1.9 2 2 2h14c1.1 0 2-.9 2-2V5c0-1.1-.9-2-2-2zM9 17H7v-7h2v7zm4 0h-2V7h2v10zm4 0h-2v-4h2v4z\"/>\n",
              "    </g>\n",
              "</svg>\n",
              "  </button>\n",
              "\n",
              "<style>\n",
              "  .colab-df-quickchart {\n",
              "      --bg-color: #E8F0FE;\n",
              "      --fill-color: #1967D2;\n",
              "      --hover-bg-color: #E2EBFA;\n",
              "      --hover-fill-color: #174EA6;\n",
              "      --disabled-fill-color: #AAA;\n",
              "      --disabled-bg-color: #DDD;\n",
              "  }\n",
              "\n",
              "  [theme=dark] .colab-df-quickchart {\n",
              "      --bg-color: #3B4455;\n",
              "      --fill-color: #D2E3FC;\n",
              "      --hover-bg-color: #434B5C;\n",
              "      --hover-fill-color: #FFFFFF;\n",
              "      --disabled-bg-color: #3B4455;\n",
              "      --disabled-fill-color: #666;\n",
              "  }\n",
              "\n",
              "  .colab-df-quickchart {\n",
              "    background-color: var(--bg-color);\n",
              "    border: none;\n",
              "    border-radius: 50%;\n",
              "    cursor: pointer;\n",
              "    display: none;\n",
              "    fill: var(--fill-color);\n",
              "    height: 32px;\n",
              "    padding: 0;\n",
              "    width: 32px;\n",
              "  }\n",
              "\n",
              "  .colab-df-quickchart:hover {\n",
              "    background-color: var(--hover-bg-color);\n",
              "    box-shadow: 0 1px 2px rgba(60, 64, 67, 0.3), 0 1px 3px 1px rgba(60, 64, 67, 0.15);\n",
              "    fill: var(--button-hover-fill-color);\n",
              "  }\n",
              "\n",
              "  .colab-df-quickchart-complete:disabled,\n",
              "  .colab-df-quickchart-complete:disabled:hover {\n",
              "    background-color: var(--disabled-bg-color);\n",
              "    fill: var(--disabled-fill-color);\n",
              "    box-shadow: none;\n",
              "  }\n",
              "\n",
              "  .colab-df-spinner {\n",
              "    border: 2px solid var(--fill-color);\n",
              "    border-color: transparent;\n",
              "    border-bottom-color: var(--fill-color);\n",
              "    animation:\n",
              "      spin 1s steps(1) infinite;\n",
              "  }\n",
              "\n",
              "  @keyframes spin {\n",
              "    0% {\n",
              "      border-color: transparent;\n",
              "      border-bottom-color: var(--fill-color);\n",
              "      border-left-color: var(--fill-color);\n",
              "    }\n",
              "    20% {\n",
              "      border-color: transparent;\n",
              "      border-left-color: var(--fill-color);\n",
              "      border-top-color: var(--fill-color);\n",
              "    }\n",
              "    30% {\n",
              "      border-color: transparent;\n",
              "      border-left-color: var(--fill-color);\n",
              "      border-top-color: var(--fill-color);\n",
              "      border-right-color: var(--fill-color);\n",
              "    }\n",
              "    40% {\n",
              "      border-color: transparent;\n",
              "      border-right-color: var(--fill-color);\n",
              "      border-top-color: var(--fill-color);\n",
              "    }\n",
              "    60% {\n",
              "      border-color: transparent;\n",
              "      border-right-color: var(--fill-color);\n",
              "    }\n",
              "    80% {\n",
              "      border-color: transparent;\n",
              "      border-right-color: var(--fill-color);\n",
              "      border-bottom-color: var(--fill-color);\n",
              "    }\n",
              "    90% {\n",
              "      border-color: transparent;\n",
              "      border-bottom-color: var(--fill-color);\n",
              "    }\n",
              "  }\n",
              "</style>\n",
              "\n",
              "  <script>\n",
              "    async function quickchart(key) {\n",
              "      const quickchartButtonEl =\n",
              "        document.querySelector('#' + key + ' button');\n",
              "      quickchartButtonEl.disabled = true;  // To prevent multiple clicks.\n",
              "      quickchartButtonEl.classList.add('colab-df-spinner');\n",
              "      try {\n",
              "        const charts = await google.colab.kernel.invokeFunction(\n",
              "            'suggestCharts', [key], {});\n",
              "      } catch (error) {\n",
              "        console.error('Error during call to suggestCharts:', error);\n",
              "      }\n",
              "      quickchartButtonEl.classList.remove('colab-df-spinner');\n",
              "      quickchartButtonEl.classList.add('colab-df-quickchart-complete');\n",
              "    }\n",
              "    (() => {\n",
              "      let quickchartButtonEl =\n",
              "        document.querySelector('#df-e9b8325d-6f24-4c2e-bc5d-2a833ead53e5 button');\n",
              "      quickchartButtonEl.style.display =\n",
              "        google.colab.kernel.accessAllowed ? 'block' : 'none';\n",
              "    })();\n",
              "  </script>\n",
              "</div>\n",
              "    </div>\n",
              "  </div>\n"
            ]
          },
          "metadata": {},
          "execution_count": 55
        }
      ]
    },
    {
      "cell_type": "code",
      "source": [
        "y"
      ],
      "metadata": {
        "colab": {
          "base_uri": "https://localhost:8080/"
        },
        "id": "5lfKfufnGxfW",
        "outputId": "965a47b3-4dc3-4652-e138-803a09908ae5"
      },
      "execution_count": 56,
      "outputs": [
        {
          "output_type": "execute_result",
          "data": {
            "text/plain": [
              "0       1121.87390\n",
              "1       1131.50660\n",
              "2       1135.94070\n",
              "3       1136.39940\n",
              "4       1137.01100\n",
              "          ...     \n",
              "952    14119.62000\n",
              "953    14133.03775\n",
              "961    14349.85440\n",
              "968    14426.07385\n",
              "976    14692.66935\n",
              "Name: charges, Length: 917, dtype: float64"
            ]
          },
          "metadata": {},
          "execution_count": 56
        }
      ]
    },
    {
      "cell_type": "code",
      "source": [
        "from sklearn.linear_model import LinearRegression\n",
        "from sklearn.model_selection import train_test_split"
      ],
      "metadata": {
        "id": "LAi78bCnH9NM"
      },
      "execution_count": 57,
      "outputs": []
    },
    {
      "cell_type": "code",
      "source": [
        "# Split data into train and test\n",
        "x_train, x_test, y_train, y_test = train_test_split(x,y,train_size=0.8, random_state=0)"
      ],
      "metadata": {
        "id": "5JmpQROsHNsA"
      },
      "execution_count": 58,
      "outputs": []
    },
    {
      "cell_type": "code",
      "source": [
        "print(x_train.shape)\n",
        "print(y_train.shape)\n",
        "print(x_test.shape)\n",
        "print(y_test.shape)"
      ],
      "metadata": {
        "colab": {
          "base_uri": "https://localhost:8080/"
        },
        "id": "0bOzBeBrIxIv",
        "outputId": "68378884-ae48-494c-8fe6-2bc390a13a86"
      },
      "execution_count": 61,
      "outputs": [
        {
          "output_type": "stream",
          "name": "stdout",
          "text": [
            "(733, 5)\n",
            "(733,)\n",
            "(184, 5)\n",
            "(184,)\n"
          ]
        }
      ]
    },
    {
      "cell_type": "code",
      "source": [
        "x_train, y_train, x_test,y_test"
      ],
      "metadata": {
        "colab": {
          "base_uri": "https://localhost:8080/"
        },
        "id": "3aDx0w1aLQJ8",
        "outputId": "90a8ce66-e018-49db-b245-4f1a38918799"
      },
      "execution_count": 62,
      "outputs": [
        {
          "output_type": "execute_result",
          "data": {
            "text/plain": [
              "(     children  Claim_Amount  past_consultations  Hospital_expenditure  \\\n",
              " 384       2.0  29946.321440                15.0          4.697700e+06   \n",
              " 362       0.0  47687.443630                22.0          9.782759e+05   \n",
              " 747       3.0  32957.123270                12.0          2.263835e+06   \n",
              " 89        0.0   2912.590584                11.0          7.899220e+06   \n",
              " 433       1.0  38795.064510                16.0          7.336068e+05   \n",
              " ..        ...           ...                 ...                   ...   \n",
              " 846       0.0  27388.677040                18.0          7.295768e+06   \n",
              " 197       2.0  48666.903120                16.0          7.369025e+05   \n",
              " 637       0.0  26000.574150                11.0          1.142255e+06   \n",
              " 565       0.0  20166.247030                10.0          9.807422e+06   \n",
              " 693       1.0  13531.986560                23.0          5.166597e+06   \n",
              " \n",
              "      Anual_Salary  \n",
              " 384  5.466699e+07  \n",
              " 362  8.106529e+07  \n",
              " 747  1.333158e+08  \n",
              " 89   4.031690e+07  \n",
              " 433  1.155031e+08  \n",
              " ..            ...  \n",
              " 846  1.789610e+08  \n",
              " 197  7.000701e+07  \n",
              " 637  9.214643e+07  \n",
              " 565  1.543039e+08  \n",
              " 693  1.791053e+08  \n",
              " \n",
              " [733 rows x 5 columns],\n",
              " 384     5327.40025\n",
              " 362     5028.14660\n",
              " 747    10600.54830\n",
              " 89      1981.58190\n",
              " 433     6112.35295\n",
              "           ...     \n",
              " 846    12029.28670\n",
              " 197     3077.09550\n",
              " 637     8835.26495\n",
              " 565     7804.16050\n",
              " 693     9724.53000\n",
              " Name: charges, Length: 733, dtype: float64,\n",
              "      children  Claim_Amount  past_consultations  Hospital_expenditure  \\\n",
              " 312       0.0   11964.74436                 4.0           2222823.611   \n",
              " 720       2.0   22647.32189                 5.0           5280564.588   \n",
              " 304       2.0   38072.48286                14.0           8776790.572   \n",
              " 472       2.0   28604.88849                18.0           9236764.380   \n",
              " 258       3.0   17845.50338                 7.0           8606625.014   \n",
              " ..        ...           ...                 ...                   ...   \n",
              " 942       0.0   19528.41538                19.0           8863813.880   \n",
              " 299       0.0   33059.90952                 3.0           8103214.758   \n",
              " 596       1.0   28001.67597                 4.0           9193400.465   \n",
              " 2         0.0   39023.62759                19.0           6884860.774   \n",
              " 415       2.0   47705.79310                20.0           4781387.895   \n",
              " \n",
              "      Anual_Salary  \n",
              " 312  5.955197e+07  \n",
              " 720  1.735518e+08  \n",
              " 304  7.020138e+07  \n",
              " 472  1.189321e+08  \n",
              " 258  8.551357e+07  \n",
              " ..            ...  \n",
              " 942  2.244863e+08  \n",
              " 299  6.802309e+07  \n",
              " 596  8.863498e+07  \n",
              " 2    7.352311e+07  \n",
              " 415  1.315786e+08  \n",
              " \n",
              " [184 rows x 5 columns],\n",
              " 312     4500.33925\n",
              " 720    10118.42400\n",
              " 304     4435.09420\n",
              " 472     6571.54400\n",
              " 258     3906.12700\n",
              "           ...     \n",
              " 942    13887.20400\n",
              " 299     4402.23300\n",
              " 596     8334.58960\n",
              " 2       1135.94070\n",
              " 415     5836.52040\n",
              " Name: charges, Length: 184, dtype: float64)"
            ]
          },
          "metadata": {},
          "execution_count": 62
        }
      ]
    },
    {
      "cell_type": "code",
      "source": [
        "#Build Linear Regression Model\n",
        "l_model = LinearRegression()\n",
        "l_model"
      ],
      "metadata": {
        "colab": {
          "base_uri": "https://localhost:8080/",
          "height": 74
        },
        "id": "GL8T7cNoLZ-K",
        "outputId": "b6f5e161-63bd-454b-9f2a-d248d541328e"
      },
      "execution_count": 64,
      "outputs": [
        {
          "output_type": "execute_result",
          "data": {
            "text/plain": [
              "LinearRegression()"
            ],
            "text/html": [
              "<style>#sk-container-id-1 {color: black;background-color: white;}#sk-container-id-1 pre{padding: 0;}#sk-container-id-1 div.sk-toggleable {background-color: white;}#sk-container-id-1 label.sk-toggleable__label {cursor: pointer;display: block;width: 100%;margin-bottom: 0;padding: 0.3em;box-sizing: border-box;text-align: center;}#sk-container-id-1 label.sk-toggleable__label-arrow:before {content: \"▸\";float: left;margin-right: 0.25em;color: #696969;}#sk-container-id-1 label.sk-toggleable__label-arrow:hover:before {color: black;}#sk-container-id-1 div.sk-estimator:hover label.sk-toggleable__label-arrow:before {color: black;}#sk-container-id-1 div.sk-toggleable__content {max-height: 0;max-width: 0;overflow: hidden;text-align: left;background-color: #f0f8ff;}#sk-container-id-1 div.sk-toggleable__content pre {margin: 0.2em;color: black;border-radius: 0.25em;background-color: #f0f8ff;}#sk-container-id-1 input.sk-toggleable__control:checked~div.sk-toggleable__content {max-height: 200px;max-width: 100%;overflow: auto;}#sk-container-id-1 input.sk-toggleable__control:checked~label.sk-toggleable__label-arrow:before {content: \"▾\";}#sk-container-id-1 div.sk-estimator input.sk-toggleable__control:checked~label.sk-toggleable__label {background-color: #d4ebff;}#sk-container-id-1 div.sk-label input.sk-toggleable__control:checked~label.sk-toggleable__label {background-color: #d4ebff;}#sk-container-id-1 input.sk-hidden--visually {border: 0;clip: rect(1px 1px 1px 1px);clip: rect(1px, 1px, 1px, 1px);height: 1px;margin: -1px;overflow: hidden;padding: 0;position: absolute;width: 1px;}#sk-container-id-1 div.sk-estimator {font-family: monospace;background-color: #f0f8ff;border: 1px dotted black;border-radius: 0.25em;box-sizing: border-box;margin-bottom: 0.5em;}#sk-container-id-1 div.sk-estimator:hover {background-color: #d4ebff;}#sk-container-id-1 div.sk-parallel-item::after {content: \"\";width: 100%;border-bottom: 1px solid gray;flex-grow: 1;}#sk-container-id-1 div.sk-label:hover label.sk-toggleable__label {background-color: #d4ebff;}#sk-container-id-1 div.sk-serial::before {content: \"\";position: absolute;border-left: 1px solid gray;box-sizing: border-box;top: 0;bottom: 0;left: 50%;z-index: 0;}#sk-container-id-1 div.sk-serial {display: flex;flex-direction: column;align-items: center;background-color: white;padding-right: 0.2em;padding-left: 0.2em;position: relative;}#sk-container-id-1 div.sk-item {position: relative;z-index: 1;}#sk-container-id-1 div.sk-parallel {display: flex;align-items: stretch;justify-content: center;background-color: white;position: relative;}#sk-container-id-1 div.sk-item::before, #sk-container-id-1 div.sk-parallel-item::before {content: \"\";position: absolute;border-left: 1px solid gray;box-sizing: border-box;top: 0;bottom: 0;left: 50%;z-index: -1;}#sk-container-id-1 div.sk-parallel-item {display: flex;flex-direction: column;z-index: 1;position: relative;background-color: white;}#sk-container-id-1 div.sk-parallel-item:first-child::after {align-self: flex-end;width: 50%;}#sk-container-id-1 div.sk-parallel-item:last-child::after {align-self: flex-start;width: 50%;}#sk-container-id-1 div.sk-parallel-item:only-child::after {width: 0;}#sk-container-id-1 div.sk-dashed-wrapped {border: 1px dashed gray;margin: 0 0.4em 0.5em 0.4em;box-sizing: border-box;padding-bottom: 0.4em;background-color: white;}#sk-container-id-1 div.sk-label label {font-family: monospace;font-weight: bold;display: inline-block;line-height: 1.2em;}#sk-container-id-1 div.sk-label-container {text-align: center;}#sk-container-id-1 div.sk-container {/* jupyter's `normalize.less` sets `[hidden] { display: none; }` but bootstrap.min.css set `[hidden] { display: none !important; }` so we also need the `!important` here to be able to override the default hidden behavior on the sphinx rendered scikit-learn.org. See: https://github.com/scikit-learn/scikit-learn/issues/21755 */display: inline-block !important;position: relative;}#sk-container-id-1 div.sk-text-repr-fallback {display: none;}</style><div id=\"sk-container-id-1\" class=\"sk-top-container\"><div class=\"sk-text-repr-fallback\"><pre>LinearRegression()</pre><b>In a Jupyter environment, please rerun this cell to show the HTML representation or trust the notebook. <br />On GitHub, the HTML representation is unable to render, please try loading this page with nbviewer.org.</b></div><div class=\"sk-container\" hidden><div class=\"sk-item\"><div class=\"sk-estimator sk-toggleable\"><input class=\"sk-toggleable__control sk-hidden--visually\" id=\"sk-estimator-id-1\" type=\"checkbox\" checked><label for=\"sk-estimator-id-1\" class=\"sk-toggleable__label sk-toggleable__label-arrow\">LinearRegression</label><div class=\"sk-toggleable__content\"><pre>LinearRegression()</pre></div></div></div></div></div>"
            ]
          },
          "metadata": {},
          "execution_count": 64
        }
      ]
    },
    {
      "cell_type": "code",
      "source": [
        "l_model.fit(x_train, y_train) #feeding the data, now model has learnt"
      ],
      "metadata": {
        "colab": {
          "base_uri": "https://localhost:8080/",
          "height": 74
        },
        "id": "-pMyFP-KLmrP",
        "outputId": "ad0a594e-26dc-4aed-bf46-273c7537d2f7"
      },
      "execution_count": 65,
      "outputs": [
        {
          "output_type": "execute_result",
          "data": {
            "text/plain": [
              "LinearRegression()"
            ],
            "text/html": [
              "<style>#sk-container-id-2 {color: black;background-color: white;}#sk-container-id-2 pre{padding: 0;}#sk-container-id-2 div.sk-toggleable {background-color: white;}#sk-container-id-2 label.sk-toggleable__label {cursor: pointer;display: block;width: 100%;margin-bottom: 0;padding: 0.3em;box-sizing: border-box;text-align: center;}#sk-container-id-2 label.sk-toggleable__label-arrow:before {content: \"▸\";float: left;margin-right: 0.25em;color: #696969;}#sk-container-id-2 label.sk-toggleable__label-arrow:hover:before {color: black;}#sk-container-id-2 div.sk-estimator:hover label.sk-toggleable__label-arrow:before {color: black;}#sk-container-id-2 div.sk-toggleable__content {max-height: 0;max-width: 0;overflow: hidden;text-align: left;background-color: #f0f8ff;}#sk-container-id-2 div.sk-toggleable__content pre {margin: 0.2em;color: black;border-radius: 0.25em;background-color: #f0f8ff;}#sk-container-id-2 input.sk-toggleable__control:checked~div.sk-toggleable__content {max-height: 200px;max-width: 100%;overflow: auto;}#sk-container-id-2 input.sk-toggleable__control:checked~label.sk-toggleable__label-arrow:before {content: \"▾\";}#sk-container-id-2 div.sk-estimator input.sk-toggleable__control:checked~label.sk-toggleable__label {background-color: #d4ebff;}#sk-container-id-2 div.sk-label input.sk-toggleable__control:checked~label.sk-toggleable__label {background-color: #d4ebff;}#sk-container-id-2 input.sk-hidden--visually {border: 0;clip: rect(1px 1px 1px 1px);clip: rect(1px, 1px, 1px, 1px);height: 1px;margin: -1px;overflow: hidden;padding: 0;position: absolute;width: 1px;}#sk-container-id-2 div.sk-estimator {font-family: monospace;background-color: #f0f8ff;border: 1px dotted black;border-radius: 0.25em;box-sizing: border-box;margin-bottom: 0.5em;}#sk-container-id-2 div.sk-estimator:hover {background-color: #d4ebff;}#sk-container-id-2 div.sk-parallel-item::after {content: \"\";width: 100%;border-bottom: 1px solid gray;flex-grow: 1;}#sk-container-id-2 div.sk-label:hover label.sk-toggleable__label {background-color: #d4ebff;}#sk-container-id-2 div.sk-serial::before {content: \"\";position: absolute;border-left: 1px solid gray;box-sizing: border-box;top: 0;bottom: 0;left: 50%;z-index: 0;}#sk-container-id-2 div.sk-serial {display: flex;flex-direction: column;align-items: center;background-color: white;padding-right: 0.2em;padding-left: 0.2em;position: relative;}#sk-container-id-2 div.sk-item {position: relative;z-index: 1;}#sk-container-id-2 div.sk-parallel {display: flex;align-items: stretch;justify-content: center;background-color: white;position: relative;}#sk-container-id-2 div.sk-item::before, #sk-container-id-2 div.sk-parallel-item::before {content: \"\";position: absolute;border-left: 1px solid gray;box-sizing: border-box;top: 0;bottom: 0;left: 50%;z-index: -1;}#sk-container-id-2 div.sk-parallel-item {display: flex;flex-direction: column;z-index: 1;position: relative;background-color: white;}#sk-container-id-2 div.sk-parallel-item:first-child::after {align-self: flex-end;width: 50%;}#sk-container-id-2 div.sk-parallel-item:last-child::after {align-self: flex-start;width: 50%;}#sk-container-id-2 div.sk-parallel-item:only-child::after {width: 0;}#sk-container-id-2 div.sk-dashed-wrapped {border: 1px dashed gray;margin: 0 0.4em 0.5em 0.4em;box-sizing: border-box;padding-bottom: 0.4em;background-color: white;}#sk-container-id-2 div.sk-label label {font-family: monospace;font-weight: bold;display: inline-block;line-height: 1.2em;}#sk-container-id-2 div.sk-label-container {text-align: center;}#sk-container-id-2 div.sk-container {/* jupyter's `normalize.less` sets `[hidden] { display: none; }` but bootstrap.min.css set `[hidden] { display: none !important; }` so we also need the `!important` here to be able to override the default hidden behavior on the sphinx rendered scikit-learn.org. See: https://github.com/scikit-learn/scikit-learn/issues/21755 */display: inline-block !important;position: relative;}#sk-container-id-2 div.sk-text-repr-fallback {display: none;}</style><div id=\"sk-container-id-2\" class=\"sk-top-container\"><div class=\"sk-text-repr-fallback\"><pre>LinearRegression()</pre><b>In a Jupyter environment, please rerun this cell to show the HTML representation or trust the notebook. <br />On GitHub, the HTML representation is unable to render, please try loading this page with nbviewer.org.</b></div><div class=\"sk-container\" hidden><div class=\"sk-item\"><div class=\"sk-estimator sk-toggleable\"><input class=\"sk-toggleable__control sk-hidden--visually\" id=\"sk-estimator-id-2\" type=\"checkbox\" checked><label for=\"sk-estimator-id-2\" class=\"sk-toggleable__label sk-toggleable__label-arrow\">LinearRegression</label><div class=\"sk-toggleable__content\"><pre>LinearRegression()</pre></div></div></div></div></div>"
            ]
          },
          "metadata": {},
          "execution_count": 65
        }
      ]
    },
    {
      "cell_type": "code",
      "source": [
        "predictions = l_model.predict(x_test)"
      ],
      "metadata": {
        "id": "gUPAnpJaLvmn"
      },
      "execution_count": 66,
      "outputs": []
    },
    {
      "cell_type": "code",
      "source": [
        "predictions #answers you write in exam"
      ],
      "metadata": {
        "colab": {
          "base_uri": "https://localhost:8080/"
        },
        "id": "Tk0l_TAtMGWE",
        "outputId": "5cc376b5-2ae2-41e7-f2ee-f43ded262698"
      },
      "execution_count": 67,
      "outputs": [
        {
          "output_type": "execute_result",
          "data": {
            "text/plain": [
              "array([ 3324.80450229, 10271.7202937 ,  5390.00658296,  8003.00339969,\n",
              "        6051.29720332,  2122.29237543,  8491.27463831,  2235.46512507,\n",
              "        3873.61419032,  3668.58559756,  5252.26614951,  4619.29186378,\n",
              "        6787.764822  ,  8509.41378172,  2221.14477933,  7949.64387567,\n",
              "        7575.8427919 ,  4514.09554529,  3355.09262197,  8946.49479563,\n",
              "        7175.9572315 ,  4383.17711746,  4737.67341394,  5599.4833082 ,\n",
              "        6731.18892341,  3709.16600828,  2021.98414231,  7863.15658986,\n",
              "       10935.19204567,  5940.52786593,  5947.40978798,  4315.43242679,\n",
              "        1513.77541538, 10412.02755076,  5286.69827075,  2927.57924862,\n",
              "       14045.49556628, 10321.64495145,  3701.72669326,  9177.96826374,\n",
              "        5628.73031248,  4102.1036291 ,  1593.29711912, 11520.39604069,\n",
              "        5471.172694  ,  4245.90859802,  6216.69527567,  7477.52805315,\n",
              "        8888.75364025,  8822.80700544,  3309.52859875, 12636.99712783,\n",
              "        8649.97036427,  4511.31566606,  3275.29729565,  7348.78903478,\n",
              "       10710.9266853 , 11788.0831129 ,  4989.0304673 ,  7226.11229596,\n",
              "        8508.80208502,  3650.49412138,  3514.33196853,  4027.38138611,\n",
              "        5329.86384295, 10253.71026528,  4781.63023686, 11082.14853609,\n",
              "       12462.58264373,  1778.45113466, 12263.22265803,  6603.38587037,\n",
              "       10767.60099044,  2568.63009275,  7445.49076759,  2237.5936022 ,\n",
              "        3990.54290303,  9713.35278089,  4566.48855213,  1916.03247306,\n",
              "        6900.0216826 ,  4018.78109238, 11473.19959236,  7162.24654348,\n",
              "        7004.61618413, 11269.19752895,  7631.82378454,  4003.66479065,\n",
              "        6467.02950644, 11085.14457132, 12065.62670734,  7819.01658366,\n",
              "        5811.31621422,  2534.49457049,  5407.79948026, 10770.59996034,\n",
              "        4028.02250382, 10075.55122667,  4849.00532617,   631.29293831,\n",
              "       13150.42831901,  2265.01686584, 12514.09492884,  4073.59803914,\n",
              "        8003.02100368,  9538.27174312, 11477.41250235,  3481.16192078,\n",
              "        4826.01069067,  4478.73798167,  5780.80747402,  8318.99110746,\n",
              "        7655.57467886,  5663.01879315, 12867.92783828,  7683.55921214,\n",
              "       11026.68532456,  8361.03567294,  4306.52905073, 13276.98671052,\n",
              "        8162.21434476,  5820.56054548,  5254.25240627,  3311.67445428,\n",
              "       10899.36501528,  4807.76653318,  2813.00657978,  7073.02522993,\n",
              "        4793.01775739,  2362.21788956, 11529.20888399,  7543.09171541,\n",
              "        2600.51906375,  5535.47154218,  7717.75796529, 13108.55871691,\n",
              "       11395.30925415,  2081.9797709 ,  6896.64170436,  4272.9826833 ,\n",
              "        6404.83410429,  4781.16469904,  7836.82846501,  4908.47920824,\n",
              "        9691.41913673,  4999.33162206,  7350.59515319,  6738.14490682,\n",
              "        2706.01323607, 13022.18203807,  8057.73929195,  7667.12844365,\n",
              "       10124.44851775,  1948.3794119 ,  9199.50180359,  4725.27284433,\n",
              "       11580.49775639,  5411.46597924, 11499.63159646,  2976.59200482,\n",
              "        7638.957525  ,  7533.00838976, 12864.45258966,  6325.90426651,\n",
              "        7170.7680654 ,  7742.19737906,  8103.32152357,  9694.57101559,\n",
              "        7215.87626053,  8497.64993886,  3896.5643566 ,  7051.24797523,\n",
              "        3759.02552451,  3327.93039682,  3918.01271175,  6733.63091456,\n",
              "        7662.80307789, 10395.19560169,  5923.63397634, 12923.02292678,\n",
              "        4278.51516422,  5689.64179625,  5039.47150004,  8742.63895666])"
            ]
          },
          "metadata": {},
          "execution_count": 67
        }
      ]
    },
    {
      "cell_type": "code",
      "source": [
        "error_pred = pd.DataFrame(columns = ('Actual_data', 'Prediction_data')) #create data frame to compare the test resuts\n",
        "error_pred"
      ],
      "metadata": {
        "colab": {
          "base_uri": "https://localhost:8080/",
          "height": 53
        },
        "id": "wD9b-0PnMLTe",
        "outputId": "d73a814c-5983-4b2d-d894-021407a68ca6"
      },
      "execution_count": 68,
      "outputs": [
        {
          "output_type": "execute_result",
          "data": {
            "text/plain": [
              "Empty DataFrame\n",
              "Columns: [Actual_data, Prediction_data]\n",
              "Index: []"
            ],
            "text/html": [
              "\n",
              "  <div id=\"df-cab6f120-9cfa-4225-a95d-862619bc7bd6\" class=\"colab-df-container\">\n",
              "    <div>\n",
              "<style scoped>\n",
              "    .dataframe tbody tr th:only-of-type {\n",
              "        vertical-align: middle;\n",
              "    }\n",
              "\n",
              "    .dataframe tbody tr th {\n",
              "        vertical-align: top;\n",
              "    }\n",
              "\n",
              "    .dataframe thead th {\n",
              "        text-align: right;\n",
              "    }\n",
              "</style>\n",
              "<table border=\"1\" class=\"dataframe\">\n",
              "  <thead>\n",
              "    <tr style=\"text-align: right;\">\n",
              "      <th></th>\n",
              "      <th>Actual_data</th>\n",
              "      <th>Prediction_data</th>\n",
              "    </tr>\n",
              "  </thead>\n",
              "  <tbody>\n",
              "  </tbody>\n",
              "</table>\n",
              "</div>\n",
              "    <div class=\"colab-df-buttons\">\n",
              "\n",
              "  <div class=\"colab-df-container\">\n",
              "    <button class=\"colab-df-convert\" onclick=\"convertToInteractive('df-cab6f120-9cfa-4225-a95d-862619bc7bd6')\"\n",
              "            title=\"Convert this dataframe to an interactive table.\"\n",
              "            style=\"display:none;\">\n",
              "\n",
              "  <svg xmlns=\"http://www.w3.org/2000/svg\" height=\"24px\" viewBox=\"0 -960 960 960\">\n",
              "    <path d=\"M120-120v-720h720v720H120Zm60-500h600v-160H180v160Zm220 220h160v-160H400v160Zm0 220h160v-160H400v160ZM180-400h160v-160H180v160Zm440 0h160v-160H620v160ZM180-180h160v-160H180v160Zm440 0h160v-160H620v160Z\"/>\n",
              "  </svg>\n",
              "    </button>\n",
              "\n",
              "  <style>\n",
              "    .colab-df-container {\n",
              "      display:flex;\n",
              "      gap: 12px;\n",
              "    }\n",
              "\n",
              "    .colab-df-convert {\n",
              "      background-color: #E8F0FE;\n",
              "      border: none;\n",
              "      border-radius: 50%;\n",
              "      cursor: pointer;\n",
              "      display: none;\n",
              "      fill: #1967D2;\n",
              "      height: 32px;\n",
              "      padding: 0 0 0 0;\n",
              "      width: 32px;\n",
              "    }\n",
              "\n",
              "    .colab-df-convert:hover {\n",
              "      background-color: #E2EBFA;\n",
              "      box-shadow: 0px 1px 2px rgba(60, 64, 67, 0.3), 0px 1px 3px 1px rgba(60, 64, 67, 0.15);\n",
              "      fill: #174EA6;\n",
              "    }\n",
              "\n",
              "    .colab-df-buttons div {\n",
              "      margin-bottom: 4px;\n",
              "    }\n",
              "\n",
              "    [theme=dark] .colab-df-convert {\n",
              "      background-color: #3B4455;\n",
              "      fill: #D2E3FC;\n",
              "    }\n",
              "\n",
              "    [theme=dark] .colab-df-convert:hover {\n",
              "      background-color: #434B5C;\n",
              "      box-shadow: 0px 1px 3px 1px rgba(0, 0, 0, 0.15);\n",
              "      filter: drop-shadow(0px 1px 2px rgba(0, 0, 0, 0.3));\n",
              "      fill: #FFFFFF;\n",
              "    }\n",
              "  </style>\n",
              "\n",
              "    <script>\n",
              "      const buttonEl =\n",
              "        document.querySelector('#df-cab6f120-9cfa-4225-a95d-862619bc7bd6 button.colab-df-convert');\n",
              "      buttonEl.style.display =\n",
              "        google.colab.kernel.accessAllowed ? 'block' : 'none';\n",
              "\n",
              "      async function convertToInteractive(key) {\n",
              "        const element = document.querySelector('#df-cab6f120-9cfa-4225-a95d-862619bc7bd6');\n",
              "        const dataTable =\n",
              "          await google.colab.kernel.invokeFunction('convertToInteractive',\n",
              "                                                    [key], {});\n",
              "        if (!dataTable) return;\n",
              "\n",
              "        const docLinkHtml = 'Like what you see? Visit the ' +\n",
              "          '<a target=\"_blank\" href=https://colab.research.google.com/notebooks/data_table.ipynb>data table notebook</a>'\n",
              "          + ' to learn more about interactive tables.';\n",
              "        element.innerHTML = '';\n",
              "        dataTable['output_type'] = 'display_data';\n",
              "        await google.colab.output.renderOutput(dataTable, element);\n",
              "        const docLink = document.createElement('div');\n",
              "        docLink.innerHTML = docLinkHtml;\n",
              "        element.appendChild(docLink);\n",
              "      }\n",
              "    </script>\n",
              "  </div>\n",
              "\n",
              "    </div>\n",
              "  </div>\n"
            ]
          },
          "metadata": {},
          "execution_count": 68
        }
      ]
    },
    {
      "cell_type": "code",
      "source": [
        "error_pred['Actual_data'] = y_test #actual answers\n",
        "error_pred"
      ],
      "metadata": {
        "colab": {
          "base_uri": "https://localhost:8080/",
          "height": 423
        },
        "id": "4xT3HmwdMnTx",
        "outputId": "2bd6e45f-6838-435c-d02b-1ec67a2bc68a"
      },
      "execution_count": 70,
      "outputs": [
        {
          "output_type": "execute_result",
          "data": {
            "text/plain": [
              "     Actual_data Prediction_data\n",
              "312   4500.33925             NaN\n",
              "720  10118.42400             NaN\n",
              "304   4435.09420             NaN\n",
              "472   6571.54400             NaN\n",
              "258   3906.12700             NaN\n",
              "..           ...             ...\n",
              "942  13887.20400             NaN\n",
              "299   4402.23300             NaN\n",
              "596   8334.58960             NaN\n",
              "2     1135.94070             NaN\n",
              "415   5836.52040             NaN\n",
              "\n",
              "[184 rows x 2 columns]"
            ],
            "text/html": [
              "\n",
              "  <div id=\"df-b32eb2b3-0629-4435-8ab6-aee661882973\" class=\"colab-df-container\">\n",
              "    <div>\n",
              "<style scoped>\n",
              "    .dataframe tbody tr th:only-of-type {\n",
              "        vertical-align: middle;\n",
              "    }\n",
              "\n",
              "    .dataframe tbody tr th {\n",
              "        vertical-align: top;\n",
              "    }\n",
              "\n",
              "    .dataframe thead th {\n",
              "        text-align: right;\n",
              "    }\n",
              "</style>\n",
              "<table border=\"1\" class=\"dataframe\">\n",
              "  <thead>\n",
              "    <tr style=\"text-align: right;\">\n",
              "      <th></th>\n",
              "      <th>Actual_data</th>\n",
              "      <th>Prediction_data</th>\n",
              "    </tr>\n",
              "  </thead>\n",
              "  <tbody>\n",
              "    <tr>\n",
              "      <th>312</th>\n",
              "      <td>4500.33925</td>\n",
              "      <td>NaN</td>\n",
              "    </tr>\n",
              "    <tr>\n",
              "      <th>720</th>\n",
              "      <td>10118.42400</td>\n",
              "      <td>NaN</td>\n",
              "    </tr>\n",
              "    <tr>\n",
              "      <th>304</th>\n",
              "      <td>4435.09420</td>\n",
              "      <td>NaN</td>\n",
              "    </tr>\n",
              "    <tr>\n",
              "      <th>472</th>\n",
              "      <td>6571.54400</td>\n",
              "      <td>NaN</td>\n",
              "    </tr>\n",
              "    <tr>\n",
              "      <th>258</th>\n",
              "      <td>3906.12700</td>\n",
              "      <td>NaN</td>\n",
              "    </tr>\n",
              "    <tr>\n",
              "      <th>...</th>\n",
              "      <td>...</td>\n",
              "      <td>...</td>\n",
              "    </tr>\n",
              "    <tr>\n",
              "      <th>942</th>\n",
              "      <td>13887.20400</td>\n",
              "      <td>NaN</td>\n",
              "    </tr>\n",
              "    <tr>\n",
              "      <th>299</th>\n",
              "      <td>4402.23300</td>\n",
              "      <td>NaN</td>\n",
              "    </tr>\n",
              "    <tr>\n",
              "      <th>596</th>\n",
              "      <td>8334.58960</td>\n",
              "      <td>NaN</td>\n",
              "    </tr>\n",
              "    <tr>\n",
              "      <th>2</th>\n",
              "      <td>1135.94070</td>\n",
              "      <td>NaN</td>\n",
              "    </tr>\n",
              "    <tr>\n",
              "      <th>415</th>\n",
              "      <td>5836.52040</td>\n",
              "      <td>NaN</td>\n",
              "    </tr>\n",
              "  </tbody>\n",
              "</table>\n",
              "<p>184 rows × 2 columns</p>\n",
              "</div>\n",
              "    <div class=\"colab-df-buttons\">\n",
              "\n",
              "  <div class=\"colab-df-container\">\n",
              "    <button class=\"colab-df-convert\" onclick=\"convertToInteractive('df-b32eb2b3-0629-4435-8ab6-aee661882973')\"\n",
              "            title=\"Convert this dataframe to an interactive table.\"\n",
              "            style=\"display:none;\">\n",
              "\n",
              "  <svg xmlns=\"http://www.w3.org/2000/svg\" height=\"24px\" viewBox=\"0 -960 960 960\">\n",
              "    <path d=\"M120-120v-720h720v720H120Zm60-500h600v-160H180v160Zm220 220h160v-160H400v160Zm0 220h160v-160H400v160ZM180-400h160v-160H180v160Zm440 0h160v-160H620v160ZM180-180h160v-160H180v160Zm440 0h160v-160H620v160Z\"/>\n",
              "  </svg>\n",
              "    </button>\n",
              "\n",
              "  <style>\n",
              "    .colab-df-container {\n",
              "      display:flex;\n",
              "      gap: 12px;\n",
              "    }\n",
              "\n",
              "    .colab-df-convert {\n",
              "      background-color: #E8F0FE;\n",
              "      border: none;\n",
              "      border-radius: 50%;\n",
              "      cursor: pointer;\n",
              "      display: none;\n",
              "      fill: #1967D2;\n",
              "      height: 32px;\n",
              "      padding: 0 0 0 0;\n",
              "      width: 32px;\n",
              "    }\n",
              "\n",
              "    .colab-df-convert:hover {\n",
              "      background-color: #E2EBFA;\n",
              "      box-shadow: 0px 1px 2px rgba(60, 64, 67, 0.3), 0px 1px 3px 1px rgba(60, 64, 67, 0.15);\n",
              "      fill: #174EA6;\n",
              "    }\n",
              "\n",
              "    .colab-df-buttons div {\n",
              "      margin-bottom: 4px;\n",
              "    }\n",
              "\n",
              "    [theme=dark] .colab-df-convert {\n",
              "      background-color: #3B4455;\n",
              "      fill: #D2E3FC;\n",
              "    }\n",
              "\n",
              "    [theme=dark] .colab-df-convert:hover {\n",
              "      background-color: #434B5C;\n",
              "      box-shadow: 0px 1px 3px 1px rgba(0, 0, 0, 0.15);\n",
              "      filter: drop-shadow(0px 1px 2px rgba(0, 0, 0, 0.3));\n",
              "      fill: #FFFFFF;\n",
              "    }\n",
              "  </style>\n",
              "\n",
              "    <script>\n",
              "      const buttonEl =\n",
              "        document.querySelector('#df-b32eb2b3-0629-4435-8ab6-aee661882973 button.colab-df-convert');\n",
              "      buttonEl.style.display =\n",
              "        google.colab.kernel.accessAllowed ? 'block' : 'none';\n",
              "\n",
              "      async function convertToInteractive(key) {\n",
              "        const element = document.querySelector('#df-b32eb2b3-0629-4435-8ab6-aee661882973');\n",
              "        const dataTable =\n",
              "          await google.colab.kernel.invokeFunction('convertToInteractive',\n",
              "                                                    [key], {});\n",
              "        if (!dataTable) return;\n",
              "\n",
              "        const docLinkHtml = 'Like what you see? Visit the ' +\n",
              "          '<a target=\"_blank\" href=https://colab.research.google.com/notebooks/data_table.ipynb>data table notebook</a>'\n",
              "          + ' to learn more about interactive tables.';\n",
              "        element.innerHTML = '';\n",
              "        dataTable['output_type'] = 'display_data';\n",
              "        await google.colab.output.renderOutput(dataTable, element);\n",
              "        const docLink = document.createElement('div');\n",
              "        docLink.innerHTML = docLinkHtml;\n",
              "        element.appendChild(docLink);\n",
              "      }\n",
              "    </script>\n",
              "  </div>\n",
              "\n",
              "\n",
              "<div id=\"df-63aa9d39-831a-4cb8-b1d1-5ddac70625ca\">\n",
              "  <button class=\"colab-df-quickchart\" onclick=\"quickchart('df-63aa9d39-831a-4cb8-b1d1-5ddac70625ca')\"\n",
              "            title=\"Suggest charts\"\n",
              "            style=\"display:none;\">\n",
              "\n",
              "<svg xmlns=\"http://www.w3.org/2000/svg\" height=\"24px\"viewBox=\"0 0 24 24\"\n",
              "     width=\"24px\">\n",
              "    <g>\n",
              "        <path d=\"M19 3H5c-1.1 0-2 .9-2 2v14c0 1.1.9 2 2 2h14c1.1 0 2-.9 2-2V5c0-1.1-.9-2-2-2zM9 17H7v-7h2v7zm4 0h-2V7h2v10zm4 0h-2v-4h2v4z\"/>\n",
              "    </g>\n",
              "</svg>\n",
              "  </button>\n",
              "\n",
              "<style>\n",
              "  .colab-df-quickchart {\n",
              "      --bg-color: #E8F0FE;\n",
              "      --fill-color: #1967D2;\n",
              "      --hover-bg-color: #E2EBFA;\n",
              "      --hover-fill-color: #174EA6;\n",
              "      --disabled-fill-color: #AAA;\n",
              "      --disabled-bg-color: #DDD;\n",
              "  }\n",
              "\n",
              "  [theme=dark] .colab-df-quickchart {\n",
              "      --bg-color: #3B4455;\n",
              "      --fill-color: #D2E3FC;\n",
              "      --hover-bg-color: #434B5C;\n",
              "      --hover-fill-color: #FFFFFF;\n",
              "      --disabled-bg-color: #3B4455;\n",
              "      --disabled-fill-color: #666;\n",
              "  }\n",
              "\n",
              "  .colab-df-quickchart {\n",
              "    background-color: var(--bg-color);\n",
              "    border: none;\n",
              "    border-radius: 50%;\n",
              "    cursor: pointer;\n",
              "    display: none;\n",
              "    fill: var(--fill-color);\n",
              "    height: 32px;\n",
              "    padding: 0;\n",
              "    width: 32px;\n",
              "  }\n",
              "\n",
              "  .colab-df-quickchart:hover {\n",
              "    background-color: var(--hover-bg-color);\n",
              "    box-shadow: 0 1px 2px rgba(60, 64, 67, 0.3), 0 1px 3px 1px rgba(60, 64, 67, 0.15);\n",
              "    fill: var(--button-hover-fill-color);\n",
              "  }\n",
              "\n",
              "  .colab-df-quickchart-complete:disabled,\n",
              "  .colab-df-quickchart-complete:disabled:hover {\n",
              "    background-color: var(--disabled-bg-color);\n",
              "    fill: var(--disabled-fill-color);\n",
              "    box-shadow: none;\n",
              "  }\n",
              "\n",
              "  .colab-df-spinner {\n",
              "    border: 2px solid var(--fill-color);\n",
              "    border-color: transparent;\n",
              "    border-bottom-color: var(--fill-color);\n",
              "    animation:\n",
              "      spin 1s steps(1) infinite;\n",
              "  }\n",
              "\n",
              "  @keyframes spin {\n",
              "    0% {\n",
              "      border-color: transparent;\n",
              "      border-bottom-color: var(--fill-color);\n",
              "      border-left-color: var(--fill-color);\n",
              "    }\n",
              "    20% {\n",
              "      border-color: transparent;\n",
              "      border-left-color: var(--fill-color);\n",
              "      border-top-color: var(--fill-color);\n",
              "    }\n",
              "    30% {\n",
              "      border-color: transparent;\n",
              "      border-left-color: var(--fill-color);\n",
              "      border-top-color: var(--fill-color);\n",
              "      border-right-color: var(--fill-color);\n",
              "    }\n",
              "    40% {\n",
              "      border-color: transparent;\n",
              "      border-right-color: var(--fill-color);\n",
              "      border-top-color: var(--fill-color);\n",
              "    }\n",
              "    60% {\n",
              "      border-color: transparent;\n",
              "      border-right-color: var(--fill-color);\n",
              "    }\n",
              "    80% {\n",
              "      border-color: transparent;\n",
              "      border-right-color: var(--fill-color);\n",
              "      border-bottom-color: var(--fill-color);\n",
              "    }\n",
              "    90% {\n",
              "      border-color: transparent;\n",
              "      border-bottom-color: var(--fill-color);\n",
              "    }\n",
              "  }\n",
              "</style>\n",
              "\n",
              "  <script>\n",
              "    async function quickchart(key) {\n",
              "      const quickchartButtonEl =\n",
              "        document.querySelector('#' + key + ' button');\n",
              "      quickchartButtonEl.disabled = true;  // To prevent multiple clicks.\n",
              "      quickchartButtonEl.classList.add('colab-df-spinner');\n",
              "      try {\n",
              "        const charts = await google.colab.kernel.invokeFunction(\n",
              "            'suggestCharts', [key], {});\n",
              "      } catch (error) {\n",
              "        console.error('Error during call to suggestCharts:', error);\n",
              "      }\n",
              "      quickchartButtonEl.classList.remove('colab-df-spinner');\n",
              "      quickchartButtonEl.classList.add('colab-df-quickchart-complete');\n",
              "    }\n",
              "    (() => {\n",
              "      let quickchartButtonEl =\n",
              "        document.querySelector('#df-63aa9d39-831a-4cb8-b1d1-5ddac70625ca button');\n",
              "      quickchartButtonEl.style.display =\n",
              "        google.colab.kernel.accessAllowed ? 'block' : 'none';\n",
              "    })();\n",
              "  </script>\n",
              "</div>\n",
              "    </div>\n",
              "  </div>\n"
            ]
          },
          "metadata": {},
          "execution_count": 70
        }
      ]
    },
    {
      "cell_type": "code",
      "source": [
        "error_pred['Prediction_data']=predictions"
      ],
      "metadata": {
        "id": "xSzr_-qjM1sU"
      },
      "execution_count": 71,
      "outputs": []
    },
    {
      "cell_type": "code",
      "source": [
        "error_pred.head()"
      ],
      "metadata": {
        "colab": {
          "base_uri": "https://localhost:8080/",
          "height": 206
        },
        "id": "RvowQHjoM-V9",
        "outputId": "05226307-3e73-4843-d49a-365178ca23f5"
      },
      "execution_count": 72,
      "outputs": [
        {
          "output_type": "execute_result",
          "data": {
            "text/plain": [
              "     Actual_data  Prediction_data\n",
              "312   4500.33925      3324.804502\n",
              "720  10118.42400     10271.720294\n",
              "304   4435.09420      5390.006583\n",
              "472   6571.54400      8003.003400\n",
              "258   3906.12700      6051.297203"
            ],
            "text/html": [
              "\n",
              "  <div id=\"df-60502486-cfce-4e04-b1dc-4c5d33d1748c\" class=\"colab-df-container\">\n",
              "    <div>\n",
              "<style scoped>\n",
              "    .dataframe tbody tr th:only-of-type {\n",
              "        vertical-align: middle;\n",
              "    }\n",
              "\n",
              "    .dataframe tbody tr th {\n",
              "        vertical-align: top;\n",
              "    }\n",
              "\n",
              "    .dataframe thead th {\n",
              "        text-align: right;\n",
              "    }\n",
              "</style>\n",
              "<table border=\"1\" class=\"dataframe\">\n",
              "  <thead>\n",
              "    <tr style=\"text-align: right;\">\n",
              "      <th></th>\n",
              "      <th>Actual_data</th>\n",
              "      <th>Prediction_data</th>\n",
              "    </tr>\n",
              "  </thead>\n",
              "  <tbody>\n",
              "    <tr>\n",
              "      <th>312</th>\n",
              "      <td>4500.33925</td>\n",
              "      <td>3324.804502</td>\n",
              "    </tr>\n",
              "    <tr>\n",
              "      <th>720</th>\n",
              "      <td>10118.42400</td>\n",
              "      <td>10271.720294</td>\n",
              "    </tr>\n",
              "    <tr>\n",
              "      <th>304</th>\n",
              "      <td>4435.09420</td>\n",
              "      <td>5390.006583</td>\n",
              "    </tr>\n",
              "    <tr>\n",
              "      <th>472</th>\n",
              "      <td>6571.54400</td>\n",
              "      <td>8003.003400</td>\n",
              "    </tr>\n",
              "    <tr>\n",
              "      <th>258</th>\n",
              "      <td>3906.12700</td>\n",
              "      <td>6051.297203</td>\n",
              "    </tr>\n",
              "  </tbody>\n",
              "</table>\n",
              "</div>\n",
              "    <div class=\"colab-df-buttons\">\n",
              "\n",
              "  <div class=\"colab-df-container\">\n",
              "    <button class=\"colab-df-convert\" onclick=\"convertToInteractive('df-60502486-cfce-4e04-b1dc-4c5d33d1748c')\"\n",
              "            title=\"Convert this dataframe to an interactive table.\"\n",
              "            style=\"display:none;\">\n",
              "\n",
              "  <svg xmlns=\"http://www.w3.org/2000/svg\" height=\"24px\" viewBox=\"0 -960 960 960\">\n",
              "    <path d=\"M120-120v-720h720v720H120Zm60-500h600v-160H180v160Zm220 220h160v-160H400v160Zm0 220h160v-160H400v160ZM180-400h160v-160H180v160Zm440 0h160v-160H620v160ZM180-180h160v-160H180v160Zm440 0h160v-160H620v160Z\"/>\n",
              "  </svg>\n",
              "    </button>\n",
              "\n",
              "  <style>\n",
              "    .colab-df-container {\n",
              "      display:flex;\n",
              "      gap: 12px;\n",
              "    }\n",
              "\n",
              "    .colab-df-convert {\n",
              "      background-color: #E8F0FE;\n",
              "      border: none;\n",
              "      border-radius: 50%;\n",
              "      cursor: pointer;\n",
              "      display: none;\n",
              "      fill: #1967D2;\n",
              "      height: 32px;\n",
              "      padding: 0 0 0 0;\n",
              "      width: 32px;\n",
              "    }\n",
              "\n",
              "    .colab-df-convert:hover {\n",
              "      background-color: #E2EBFA;\n",
              "      box-shadow: 0px 1px 2px rgba(60, 64, 67, 0.3), 0px 1px 3px 1px rgba(60, 64, 67, 0.15);\n",
              "      fill: #174EA6;\n",
              "    }\n",
              "\n",
              "    .colab-df-buttons div {\n",
              "      margin-bottom: 4px;\n",
              "    }\n",
              "\n",
              "    [theme=dark] .colab-df-convert {\n",
              "      background-color: #3B4455;\n",
              "      fill: #D2E3FC;\n",
              "    }\n",
              "\n",
              "    [theme=dark] .colab-df-convert:hover {\n",
              "      background-color: #434B5C;\n",
              "      box-shadow: 0px 1px 3px 1px rgba(0, 0, 0, 0.15);\n",
              "      filter: drop-shadow(0px 1px 2px rgba(0, 0, 0, 0.3));\n",
              "      fill: #FFFFFF;\n",
              "    }\n",
              "  </style>\n",
              "\n",
              "    <script>\n",
              "      const buttonEl =\n",
              "        document.querySelector('#df-60502486-cfce-4e04-b1dc-4c5d33d1748c button.colab-df-convert');\n",
              "      buttonEl.style.display =\n",
              "        google.colab.kernel.accessAllowed ? 'block' : 'none';\n",
              "\n",
              "      async function convertToInteractive(key) {\n",
              "        const element = document.querySelector('#df-60502486-cfce-4e04-b1dc-4c5d33d1748c');\n",
              "        const dataTable =\n",
              "          await google.colab.kernel.invokeFunction('convertToInteractive',\n",
              "                                                    [key], {});\n",
              "        if (!dataTable) return;\n",
              "\n",
              "        const docLinkHtml = 'Like what you see? Visit the ' +\n",
              "          '<a target=\"_blank\" href=https://colab.research.google.com/notebooks/data_table.ipynb>data table notebook</a>'\n",
              "          + ' to learn more about interactive tables.';\n",
              "        element.innerHTML = '';\n",
              "        dataTable['output_type'] = 'display_data';\n",
              "        await google.colab.output.renderOutput(dataTable, element);\n",
              "        const docLink = document.createElement('div');\n",
              "        docLink.innerHTML = docLinkHtml;\n",
              "        element.appendChild(docLink);\n",
              "      }\n",
              "    </script>\n",
              "  </div>\n",
              "\n",
              "\n",
              "<div id=\"df-7b5c892f-419a-4a8e-9b86-28d38e36e326\">\n",
              "  <button class=\"colab-df-quickchart\" onclick=\"quickchart('df-7b5c892f-419a-4a8e-9b86-28d38e36e326')\"\n",
              "            title=\"Suggest charts\"\n",
              "            style=\"display:none;\">\n",
              "\n",
              "<svg xmlns=\"http://www.w3.org/2000/svg\" height=\"24px\"viewBox=\"0 0 24 24\"\n",
              "     width=\"24px\">\n",
              "    <g>\n",
              "        <path d=\"M19 3H5c-1.1 0-2 .9-2 2v14c0 1.1.9 2 2 2h14c1.1 0 2-.9 2-2V5c0-1.1-.9-2-2-2zM9 17H7v-7h2v7zm4 0h-2V7h2v10zm4 0h-2v-4h2v4z\"/>\n",
              "    </g>\n",
              "</svg>\n",
              "  </button>\n",
              "\n",
              "<style>\n",
              "  .colab-df-quickchart {\n",
              "      --bg-color: #E8F0FE;\n",
              "      --fill-color: #1967D2;\n",
              "      --hover-bg-color: #E2EBFA;\n",
              "      --hover-fill-color: #174EA6;\n",
              "      --disabled-fill-color: #AAA;\n",
              "      --disabled-bg-color: #DDD;\n",
              "  }\n",
              "\n",
              "  [theme=dark] .colab-df-quickchart {\n",
              "      --bg-color: #3B4455;\n",
              "      --fill-color: #D2E3FC;\n",
              "      --hover-bg-color: #434B5C;\n",
              "      --hover-fill-color: #FFFFFF;\n",
              "      --disabled-bg-color: #3B4455;\n",
              "      --disabled-fill-color: #666;\n",
              "  }\n",
              "\n",
              "  .colab-df-quickchart {\n",
              "    background-color: var(--bg-color);\n",
              "    border: none;\n",
              "    border-radius: 50%;\n",
              "    cursor: pointer;\n",
              "    display: none;\n",
              "    fill: var(--fill-color);\n",
              "    height: 32px;\n",
              "    padding: 0;\n",
              "    width: 32px;\n",
              "  }\n",
              "\n",
              "  .colab-df-quickchart:hover {\n",
              "    background-color: var(--hover-bg-color);\n",
              "    box-shadow: 0 1px 2px rgba(60, 64, 67, 0.3), 0 1px 3px 1px rgba(60, 64, 67, 0.15);\n",
              "    fill: var(--button-hover-fill-color);\n",
              "  }\n",
              "\n",
              "  .colab-df-quickchart-complete:disabled,\n",
              "  .colab-df-quickchart-complete:disabled:hover {\n",
              "    background-color: var(--disabled-bg-color);\n",
              "    fill: var(--disabled-fill-color);\n",
              "    box-shadow: none;\n",
              "  }\n",
              "\n",
              "  .colab-df-spinner {\n",
              "    border: 2px solid var(--fill-color);\n",
              "    border-color: transparent;\n",
              "    border-bottom-color: var(--fill-color);\n",
              "    animation:\n",
              "      spin 1s steps(1) infinite;\n",
              "  }\n",
              "\n",
              "  @keyframes spin {\n",
              "    0% {\n",
              "      border-color: transparent;\n",
              "      border-bottom-color: var(--fill-color);\n",
              "      border-left-color: var(--fill-color);\n",
              "    }\n",
              "    20% {\n",
              "      border-color: transparent;\n",
              "      border-left-color: var(--fill-color);\n",
              "      border-top-color: var(--fill-color);\n",
              "    }\n",
              "    30% {\n",
              "      border-color: transparent;\n",
              "      border-left-color: var(--fill-color);\n",
              "      border-top-color: var(--fill-color);\n",
              "      border-right-color: var(--fill-color);\n",
              "    }\n",
              "    40% {\n",
              "      border-color: transparent;\n",
              "      border-right-color: var(--fill-color);\n",
              "      border-top-color: var(--fill-color);\n",
              "    }\n",
              "    60% {\n",
              "      border-color: transparent;\n",
              "      border-right-color: var(--fill-color);\n",
              "    }\n",
              "    80% {\n",
              "      border-color: transparent;\n",
              "      border-right-color: var(--fill-color);\n",
              "      border-bottom-color: var(--fill-color);\n",
              "    }\n",
              "    90% {\n",
              "      border-color: transparent;\n",
              "      border-bottom-color: var(--fill-color);\n",
              "    }\n",
              "  }\n",
              "</style>\n",
              "\n",
              "  <script>\n",
              "    async function quickchart(key) {\n",
              "      const quickchartButtonEl =\n",
              "        document.querySelector('#' + key + ' button');\n",
              "      quickchartButtonEl.disabled = true;  // To prevent multiple clicks.\n",
              "      quickchartButtonEl.classList.add('colab-df-spinner');\n",
              "      try {\n",
              "        const charts = await google.colab.kernel.invokeFunction(\n",
              "            'suggestCharts', [key], {});\n",
              "      } catch (error) {\n",
              "        console.error('Error during call to suggestCharts:', error);\n",
              "      }\n",
              "      quickchartButtonEl.classList.remove('colab-df-spinner');\n",
              "      quickchartButtonEl.classList.add('colab-df-quickchart-complete');\n",
              "    }\n",
              "    (() => {\n",
              "      let quickchartButtonEl =\n",
              "        document.querySelector('#df-7b5c892f-419a-4a8e-9b86-28d38e36e326 button');\n",
              "      quickchartButtonEl.style.display =\n",
              "        google.colab.kernel.accessAllowed ? 'block' : 'none';\n",
              "    })();\n",
              "  </script>\n",
              "</div>\n",
              "    </div>\n",
              "  </div>\n"
            ]
          },
          "metadata": {},
          "execution_count": 72
        }
      ]
    },
    {
      "cell_type": "code",
      "source": [
        "error_pred.shape"
      ],
      "metadata": {
        "colab": {
          "base_uri": "https://localhost:8080/"
        },
        "id": "l2nEApnyNFsO",
        "outputId": "0c6a19ce-217e-4d0a-976c-baf68f1ad4a5"
      },
      "execution_count": 80,
      "outputs": [
        {
          "output_type": "execute_result",
          "data": {
            "text/plain": [
              "(184, 2)"
            ]
          },
          "metadata": {},
          "execution_count": 80
        }
      ]
    },
    {
      "cell_type": "code",
      "source": [
        "error_pred['Error']= error_pred['Actual_data']-error_pred['Prediction_data']\n",
        "error_pred.head()"
      ],
      "metadata": {
        "colab": {
          "base_uri": "https://localhost:8080/",
          "height": 206
        },
        "id": "UgZFgGO1ORCD",
        "outputId": "57d7b81a-97b2-4076-bbfc-627bc1ab92f5"
      },
      "execution_count": 81,
      "outputs": [
        {
          "output_type": "execute_result",
          "data": {
            "text/plain": [
              "     Actual_data  Prediction_data        Error\n",
              "312   4500.33925      3324.804502  1175.534748\n",
              "720  10118.42400     10271.720294  -153.296294\n",
              "304   4435.09420      5390.006583  -954.912383\n",
              "472   6571.54400      8003.003400 -1431.459400\n",
              "258   3906.12700      6051.297203 -2145.170203"
            ],
            "text/html": [
              "\n",
              "  <div id=\"df-3e6a110b-429f-4c4b-a10e-e318c9e0586b\" class=\"colab-df-container\">\n",
              "    <div>\n",
              "<style scoped>\n",
              "    .dataframe tbody tr th:only-of-type {\n",
              "        vertical-align: middle;\n",
              "    }\n",
              "\n",
              "    .dataframe tbody tr th {\n",
              "        vertical-align: top;\n",
              "    }\n",
              "\n",
              "    .dataframe thead th {\n",
              "        text-align: right;\n",
              "    }\n",
              "</style>\n",
              "<table border=\"1\" class=\"dataframe\">\n",
              "  <thead>\n",
              "    <tr style=\"text-align: right;\">\n",
              "      <th></th>\n",
              "      <th>Actual_data</th>\n",
              "      <th>Prediction_data</th>\n",
              "      <th>Error</th>\n",
              "    </tr>\n",
              "  </thead>\n",
              "  <tbody>\n",
              "    <tr>\n",
              "      <th>312</th>\n",
              "      <td>4500.33925</td>\n",
              "      <td>3324.804502</td>\n",
              "      <td>1175.534748</td>\n",
              "    </tr>\n",
              "    <tr>\n",
              "      <th>720</th>\n",
              "      <td>10118.42400</td>\n",
              "      <td>10271.720294</td>\n",
              "      <td>-153.296294</td>\n",
              "    </tr>\n",
              "    <tr>\n",
              "      <th>304</th>\n",
              "      <td>4435.09420</td>\n",
              "      <td>5390.006583</td>\n",
              "      <td>-954.912383</td>\n",
              "    </tr>\n",
              "    <tr>\n",
              "      <th>472</th>\n",
              "      <td>6571.54400</td>\n",
              "      <td>8003.003400</td>\n",
              "      <td>-1431.459400</td>\n",
              "    </tr>\n",
              "    <tr>\n",
              "      <th>258</th>\n",
              "      <td>3906.12700</td>\n",
              "      <td>6051.297203</td>\n",
              "      <td>-2145.170203</td>\n",
              "    </tr>\n",
              "  </tbody>\n",
              "</table>\n",
              "</div>\n",
              "    <div class=\"colab-df-buttons\">\n",
              "\n",
              "  <div class=\"colab-df-container\">\n",
              "    <button class=\"colab-df-convert\" onclick=\"convertToInteractive('df-3e6a110b-429f-4c4b-a10e-e318c9e0586b')\"\n",
              "            title=\"Convert this dataframe to an interactive table.\"\n",
              "            style=\"display:none;\">\n",
              "\n",
              "  <svg xmlns=\"http://www.w3.org/2000/svg\" height=\"24px\" viewBox=\"0 -960 960 960\">\n",
              "    <path d=\"M120-120v-720h720v720H120Zm60-500h600v-160H180v160Zm220 220h160v-160H400v160Zm0 220h160v-160H400v160ZM180-400h160v-160H180v160Zm440 0h160v-160H620v160ZM180-180h160v-160H180v160Zm440 0h160v-160H620v160Z\"/>\n",
              "  </svg>\n",
              "    </button>\n",
              "\n",
              "  <style>\n",
              "    .colab-df-container {\n",
              "      display:flex;\n",
              "      gap: 12px;\n",
              "    }\n",
              "\n",
              "    .colab-df-convert {\n",
              "      background-color: #E8F0FE;\n",
              "      border: none;\n",
              "      border-radius: 50%;\n",
              "      cursor: pointer;\n",
              "      display: none;\n",
              "      fill: #1967D2;\n",
              "      height: 32px;\n",
              "      padding: 0 0 0 0;\n",
              "      width: 32px;\n",
              "    }\n",
              "\n",
              "    .colab-df-convert:hover {\n",
              "      background-color: #E2EBFA;\n",
              "      box-shadow: 0px 1px 2px rgba(60, 64, 67, 0.3), 0px 1px 3px 1px rgba(60, 64, 67, 0.15);\n",
              "      fill: #174EA6;\n",
              "    }\n",
              "\n",
              "    .colab-df-buttons div {\n",
              "      margin-bottom: 4px;\n",
              "    }\n",
              "\n",
              "    [theme=dark] .colab-df-convert {\n",
              "      background-color: #3B4455;\n",
              "      fill: #D2E3FC;\n",
              "    }\n",
              "\n",
              "    [theme=dark] .colab-df-convert:hover {\n",
              "      background-color: #434B5C;\n",
              "      box-shadow: 0px 1px 3px 1px rgba(0, 0, 0, 0.15);\n",
              "      filter: drop-shadow(0px 1px 2px rgba(0, 0, 0, 0.3));\n",
              "      fill: #FFFFFF;\n",
              "    }\n",
              "  </style>\n",
              "\n",
              "    <script>\n",
              "      const buttonEl =\n",
              "        document.querySelector('#df-3e6a110b-429f-4c4b-a10e-e318c9e0586b button.colab-df-convert');\n",
              "      buttonEl.style.display =\n",
              "        google.colab.kernel.accessAllowed ? 'block' : 'none';\n",
              "\n",
              "      async function convertToInteractive(key) {\n",
              "        const element = document.querySelector('#df-3e6a110b-429f-4c4b-a10e-e318c9e0586b');\n",
              "        const dataTable =\n",
              "          await google.colab.kernel.invokeFunction('convertToInteractive',\n",
              "                                                    [key], {});\n",
              "        if (!dataTable) return;\n",
              "\n",
              "        const docLinkHtml = 'Like what you see? Visit the ' +\n",
              "          '<a target=\"_blank\" href=https://colab.research.google.com/notebooks/data_table.ipynb>data table notebook</a>'\n",
              "          + ' to learn more about interactive tables.';\n",
              "        element.innerHTML = '';\n",
              "        dataTable['output_type'] = 'display_data';\n",
              "        await google.colab.output.renderOutput(dataTable, element);\n",
              "        const docLink = document.createElement('div');\n",
              "        docLink.innerHTML = docLinkHtml;\n",
              "        element.appendChild(docLink);\n",
              "      }\n",
              "    </script>\n",
              "  </div>\n",
              "\n",
              "\n",
              "<div id=\"df-edc85d39-5af8-4eae-a125-5a4d6079a743\">\n",
              "  <button class=\"colab-df-quickchart\" onclick=\"quickchart('df-edc85d39-5af8-4eae-a125-5a4d6079a743')\"\n",
              "            title=\"Suggest charts\"\n",
              "            style=\"display:none;\">\n",
              "\n",
              "<svg xmlns=\"http://www.w3.org/2000/svg\" height=\"24px\"viewBox=\"0 0 24 24\"\n",
              "     width=\"24px\">\n",
              "    <g>\n",
              "        <path d=\"M19 3H5c-1.1 0-2 .9-2 2v14c0 1.1.9 2 2 2h14c1.1 0 2-.9 2-2V5c0-1.1-.9-2-2-2zM9 17H7v-7h2v7zm4 0h-2V7h2v10zm4 0h-2v-4h2v4z\"/>\n",
              "    </g>\n",
              "</svg>\n",
              "  </button>\n",
              "\n",
              "<style>\n",
              "  .colab-df-quickchart {\n",
              "      --bg-color: #E8F0FE;\n",
              "      --fill-color: #1967D2;\n",
              "      --hover-bg-color: #E2EBFA;\n",
              "      --hover-fill-color: #174EA6;\n",
              "      --disabled-fill-color: #AAA;\n",
              "      --disabled-bg-color: #DDD;\n",
              "  }\n",
              "\n",
              "  [theme=dark] .colab-df-quickchart {\n",
              "      --bg-color: #3B4455;\n",
              "      --fill-color: #D2E3FC;\n",
              "      --hover-bg-color: #434B5C;\n",
              "      --hover-fill-color: #FFFFFF;\n",
              "      --disabled-bg-color: #3B4455;\n",
              "      --disabled-fill-color: #666;\n",
              "  }\n",
              "\n",
              "  .colab-df-quickchart {\n",
              "    background-color: var(--bg-color);\n",
              "    border: none;\n",
              "    border-radius: 50%;\n",
              "    cursor: pointer;\n",
              "    display: none;\n",
              "    fill: var(--fill-color);\n",
              "    height: 32px;\n",
              "    padding: 0;\n",
              "    width: 32px;\n",
              "  }\n",
              "\n",
              "  .colab-df-quickchart:hover {\n",
              "    background-color: var(--hover-bg-color);\n",
              "    box-shadow: 0 1px 2px rgba(60, 64, 67, 0.3), 0 1px 3px 1px rgba(60, 64, 67, 0.15);\n",
              "    fill: var(--button-hover-fill-color);\n",
              "  }\n",
              "\n",
              "  .colab-df-quickchart-complete:disabled,\n",
              "  .colab-df-quickchart-complete:disabled:hover {\n",
              "    background-color: var(--disabled-bg-color);\n",
              "    fill: var(--disabled-fill-color);\n",
              "    box-shadow: none;\n",
              "  }\n",
              "\n",
              "  .colab-df-spinner {\n",
              "    border: 2px solid var(--fill-color);\n",
              "    border-color: transparent;\n",
              "    border-bottom-color: var(--fill-color);\n",
              "    animation:\n",
              "      spin 1s steps(1) infinite;\n",
              "  }\n",
              "\n",
              "  @keyframes spin {\n",
              "    0% {\n",
              "      border-color: transparent;\n",
              "      border-bottom-color: var(--fill-color);\n",
              "      border-left-color: var(--fill-color);\n",
              "    }\n",
              "    20% {\n",
              "      border-color: transparent;\n",
              "      border-left-color: var(--fill-color);\n",
              "      border-top-color: var(--fill-color);\n",
              "    }\n",
              "    30% {\n",
              "      border-color: transparent;\n",
              "      border-left-color: var(--fill-color);\n",
              "      border-top-color: var(--fill-color);\n",
              "      border-right-color: var(--fill-color);\n",
              "    }\n",
              "    40% {\n",
              "      border-color: transparent;\n",
              "      border-right-color: var(--fill-color);\n",
              "      border-top-color: var(--fill-color);\n",
              "    }\n",
              "    60% {\n",
              "      border-color: transparent;\n",
              "      border-right-color: var(--fill-color);\n",
              "    }\n",
              "    80% {\n",
              "      border-color: transparent;\n",
              "      border-right-color: var(--fill-color);\n",
              "      border-bottom-color: var(--fill-color);\n",
              "    }\n",
              "    90% {\n",
              "      border-color: transparent;\n",
              "      border-bottom-color: var(--fill-color);\n",
              "    }\n",
              "  }\n",
              "</style>\n",
              "\n",
              "  <script>\n",
              "    async function quickchart(key) {\n",
              "      const quickchartButtonEl =\n",
              "        document.querySelector('#' + key + ' button');\n",
              "      quickchartButtonEl.disabled = true;  // To prevent multiple clicks.\n",
              "      quickchartButtonEl.classList.add('colab-df-spinner');\n",
              "      try {\n",
              "        const charts = await google.colab.kernel.invokeFunction(\n",
              "            'suggestCharts', [key], {});\n",
              "      } catch (error) {\n",
              "        console.error('Error during call to suggestCharts:', error);\n",
              "      }\n",
              "      quickchartButtonEl.classList.remove('colab-df-spinner');\n",
              "      quickchartButtonEl.classList.add('colab-df-quickchart-complete');\n",
              "    }\n",
              "    (() => {\n",
              "      let quickchartButtonEl =\n",
              "        document.querySelector('#df-edc85d39-5af8-4eae-a125-5a4d6079a743 button');\n",
              "      quickchartButtonEl.style.display =\n",
              "        google.colab.kernel.accessAllowed ? 'block' : 'none';\n",
              "    })();\n",
              "  </script>\n",
              "</div>\n",
              "    </div>\n",
              "  </div>\n"
            ]
          },
          "metadata": {},
          "execution_count": 81
        }
      ]
    },
    {
      "cell_type": "code",
      "source": [
        "# To check accuracy we need to check r2 square"
      ],
      "metadata": {
        "id": "StcNFdpwOvqd"
      },
      "execution_count": 84,
      "outputs": []
    },
    {
      "cell_type": "code",
      "source": [
        "# overall accuracy of my model is 75.82% right\n",
        "from sklearn.metrics import *\n",
        "r2_on_test_data = r2_score(y_test, predictions)\n",
        "r2_on_test_data"
      ],
      "metadata": {
        "colab": {
          "base_uri": "https://localhost:8080/"
        },
        "id": "xICPgZwfPke9",
        "outputId": "5c7d889c-e57d-4ac8-8cc7-741bf86e09d4"
      },
      "execution_count": 90,
      "outputs": [
        {
          "output_type": "execute_result",
          "data": {
            "text/plain": [
              "0.7582052725371964"
            ]
          },
          "metadata": {},
          "execution_count": 90
        }
      ]
    }
  ]
}